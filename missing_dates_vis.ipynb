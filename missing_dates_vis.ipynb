{
 "metadata": {
  "language_info": {
   "codemirror_mode": {
    "name": "ipython",
    "version": 3
   },
   "file_extension": ".py",
   "mimetype": "text/x-python",
   "name": "python",
   "nbconvert_exporter": "python",
   "pygments_lexer": "ipython3",
   "version": "3.7.3"
  },
  "orig_nbformat": 2,
  "kernelspec": {
   "name": "python373jvsc74a57bd0d877fb6a4bb2116c586fd487bf5eedf2d40c9e7cc2eb864c6ade6854f664b7e2",
   "display_name": "Python 3.7.3 64-bit ('base': conda)"
  }
 },
 "nbformat": 4,
 "nbformat_minor": 2,
 "cells": [
  {
   "cell_type": "code",
   "execution_count": 45,
   "metadata": {},
   "outputs": [],
   "source": [
    "import pandas as pd\n",
    "import altair as alt\n",
    "import altair_saver"
   ]
  },
  {
   "source": [
    "Reading in our dataset, we will only use the first 50,000,000 rows so we don't have memory issues. "
   ],
   "cell_type": "markdown",
   "metadata": {}
  },
  {
   "cell_type": "code",
   "execution_count": 46,
   "metadata": {},
   "outputs": [
    {
     "output_type": "execute_result",
     "data": {
      "text/plain": [
       "   review_date  fandom_id\n",
       "0   1460773579       2161\n",
       "1   1461119701       2161"
      ],
      "text/html": "<div>\n<style scoped>\n    .dataframe tbody tr th:only-of-type {\n        vertical-align: middle;\n    }\n\n    .dataframe tbody tr th {\n        vertical-align: top;\n    }\n\n    .dataframe thead th {\n        text-align: right;\n    }\n</style>\n<table border=\"1\" class=\"dataframe\">\n  <thead>\n    <tr style=\"text-align: right;\">\n      <th></th>\n      <th>review_date</th>\n      <th>fandom_id</th>\n    </tr>\n  </thead>\n  <tbody>\n    <tr>\n      <th>0</th>\n      <td>1460773579</td>\n      <td>2161</td>\n    </tr>\n    <tr>\n      <th>1</th>\n      <td>1461119701</td>\n      <td>2161</td>\n    </tr>\n  </tbody>\n</table>\n</div>"
     },
     "metadata": {},
     "execution_count": 46
    }
   ],
   "source": [
    "review_big = pd.read_csv('C:/Users/travis/Downloads/review_analysis.csv', usecols = ['review_date', 'fandom_id'], nrows = 50_000_000, engine ='c')\n",
    "review_big.head(2)"
   ]
  },
  {
   "cell_type": "code",
   "execution_count": 47,
   "metadata": {},
   "outputs": [],
   "source": [
    "review_big['review_date'] = pd.to_datetime(review_big['review_date'], unit = 's')\n",
    "review_big['year'] = review_big['review_date'].dt.year\n",
    "review_big['hour'] = review_big['review_date'].dt.hour\n",
    "review_big['month'] = review_big['review_date'].dt.month\n",
    "review_big['day'] = review_big['review_date'].dt.day\n"
   ]
  },
  {
   "source": [
    "Below I pick a some fandoms that are all similar size and show different severities of the problem. "
   ],
   "cell_type": "markdown",
   "metadata": {}
  },
  {
   "cell_type": "code",
   "execution_count": 48,
   "metadata": {},
   "outputs": [
    {
     "output_type": "execute_result",
     "data": {
      "text/plain": [
       "6     487447\n",
       "2     473183\n",
       "5     463940\n",
       "27    107268\n",
       "Name: fandom_id, dtype: int64"
      ]
     },
     "metadata": {},
     "execution_count": 48
    }
   ],
   "source": [
    "fandom_one = review_big[review_big['fandom_id'].isin([2, 5, 6, 27])].copy() \n",
    "fandom_one.fandom_id.value_counts()"
   ]
  },
  {
   "cell_type": "code",
   "execution_count": 49,
   "metadata": {},
   "outputs": [
    {
     "output_type": "execute_result",
     "data": {
      "text/plain": [
       "    fandom_id  hour  review_date   year  month    day\n",
       "0           2     0        18483  18483  18483  18483\n",
       "1           2     1        19527  19527  19527  19527\n",
       "2           2     2        20794  20794  20794  20794\n",
       "3           2     3        21282  21282  21282  21282\n",
       "4           2     4        19711  19711  19711  19711\n",
       "..        ...   ...          ...    ...    ...    ...\n",
       "91         27    19         4359   4359   4359   4359\n",
       "92         27    20         4823   4823   4823   4823\n",
       "93         27    21         5072   5072   5072   5072\n",
       "94         27    22         5157   5157   5157   5157\n",
       "95         27    23         5399   5399   5399   5399\n",
       "\n",
       "[96 rows x 6 columns]"
      ],
      "text/html": "<div>\n<style scoped>\n    .dataframe tbody tr th:only-of-type {\n        vertical-align: middle;\n    }\n\n    .dataframe tbody tr th {\n        vertical-align: top;\n    }\n\n    .dataframe thead th {\n        text-align: right;\n    }\n</style>\n<table border=\"1\" class=\"dataframe\">\n  <thead>\n    <tr style=\"text-align: right;\">\n      <th></th>\n      <th>fandom_id</th>\n      <th>hour</th>\n      <th>review_date</th>\n      <th>year</th>\n      <th>month</th>\n      <th>day</th>\n    </tr>\n  </thead>\n  <tbody>\n    <tr>\n      <th>0</th>\n      <td>2</td>\n      <td>0</td>\n      <td>18483</td>\n      <td>18483</td>\n      <td>18483</td>\n      <td>18483</td>\n    </tr>\n    <tr>\n      <th>1</th>\n      <td>2</td>\n      <td>1</td>\n      <td>19527</td>\n      <td>19527</td>\n      <td>19527</td>\n      <td>19527</td>\n    </tr>\n    <tr>\n      <th>2</th>\n      <td>2</td>\n      <td>2</td>\n      <td>20794</td>\n      <td>20794</td>\n      <td>20794</td>\n      <td>20794</td>\n    </tr>\n    <tr>\n      <th>3</th>\n      <td>2</td>\n      <td>3</td>\n      <td>21282</td>\n      <td>21282</td>\n      <td>21282</td>\n      <td>21282</td>\n    </tr>\n    <tr>\n      <th>4</th>\n      <td>2</td>\n      <td>4</td>\n      <td>19711</td>\n      <td>19711</td>\n      <td>19711</td>\n      <td>19711</td>\n    </tr>\n    <tr>\n      <th>...</th>\n      <td>...</td>\n      <td>...</td>\n      <td>...</td>\n      <td>...</td>\n      <td>...</td>\n      <td>...</td>\n    </tr>\n    <tr>\n      <th>91</th>\n      <td>27</td>\n      <td>19</td>\n      <td>4359</td>\n      <td>4359</td>\n      <td>4359</td>\n      <td>4359</td>\n    </tr>\n    <tr>\n      <th>92</th>\n      <td>27</td>\n      <td>20</td>\n      <td>4823</td>\n      <td>4823</td>\n      <td>4823</td>\n      <td>4823</td>\n    </tr>\n    <tr>\n      <th>93</th>\n      <td>27</td>\n      <td>21</td>\n      <td>5072</td>\n      <td>5072</td>\n      <td>5072</td>\n      <td>5072</td>\n    </tr>\n    <tr>\n      <th>94</th>\n      <td>27</td>\n      <td>22</td>\n      <td>5157</td>\n      <td>5157</td>\n      <td>5157</td>\n      <td>5157</td>\n    </tr>\n    <tr>\n      <th>95</th>\n      <td>27</td>\n      <td>23</td>\n      <td>5399</td>\n      <td>5399</td>\n      <td>5399</td>\n      <td>5399</td>\n    </tr>\n  </tbody>\n</table>\n<p>96 rows × 6 columns</p>\n</div>"
     },
     "metadata": {},
     "execution_count": 49
    }
   ],
   "source": [
    "fandom_one_dist = fandom_one.groupby(['fandom_id', 'hour']).count().reset_index()\n",
    "fandom_one_dist"
   ]
  },
  {
   "cell_type": "code",
   "execution_count": 50,
   "metadata": {},
   "outputs": [
    {
     "output_type": "execute_result",
     "data": {
      "text/html": "\n<div id=\"altair-viz-9af00681e3394e498878b2d7c236be2d\"></div>\n<script type=\"text/javascript\">\n  (function(spec, embedOpt){\n    let outputDiv = document.currentScript.previousElementSibling;\n    if (outputDiv.id !== \"altair-viz-9af00681e3394e498878b2d7c236be2d\") {\n      outputDiv = document.getElementById(\"altair-viz-9af00681e3394e498878b2d7c236be2d\");\n    }\n    const paths = {\n      \"vega\": \"https://cdn.jsdelivr.net/npm//vega@5?noext\",\n      \"vega-lib\": \"https://cdn.jsdelivr.net/npm//vega-lib?noext\",\n      \"vega-lite\": \"https://cdn.jsdelivr.net/npm//vega-lite@4.8.1?noext\",\n      \"vega-embed\": \"https://cdn.jsdelivr.net/npm//vega-embed@6?noext\",\n    };\n\n    function loadScript(lib) {\n      return new Promise(function(resolve, reject) {\n        var s = document.createElement('script');\n        s.src = paths[lib];\n        s.async = true;\n        s.onload = () => resolve(paths[lib]);\n        s.onerror = () => reject(`Error loading script: ${paths[lib]}`);\n        document.getElementsByTagName(\"head\")[0].appendChild(s);\n      });\n    }\n\n    function showError(err) {\n      outputDiv.innerHTML = `<div class=\"error\" style=\"color:red;\">${err}</div>`;\n      throw err;\n    }\n\n    function displayChart(vegaEmbed) {\n      vegaEmbed(outputDiv, spec, embedOpt)\n        .catch(err => showError(`Javascript Error: ${err.message}<br>This usually means there's a typo in your chart specification. See the javascript console for the full traceback.`));\n    }\n\n    if(typeof define === \"function\" && define.amd) {\n      requirejs.config({paths});\n      require([\"vega-embed\"], displayChart, err => showError(`Error loading script: ${err.message}`));\n    } else if (typeof vegaEmbed === \"function\") {\n      displayChart(vegaEmbed);\n    } else {\n      loadScript(\"vega\")\n        .then(() => loadScript(\"vega-lite\"))\n        .then(() => loadScript(\"vega-embed\"))\n        .catch(showError)\n        .then(() => displayChart(vegaEmbed));\n    }\n  })({\"config\": {\"view\": {\"continuousWidth\": 400, \"continuousHeight\": 300}}, \"data\": {\"name\": \"data-ad2982d138319bdee7cf4e1f5fe5b3d5\"}, \"mark\": \"bar\", \"encoding\": {\"column\": {\"type\": \"ordinal\", \"field\": \"fandom_id\", \"title\": \"Fandom ID\"}, \"x\": {\"type\": \"ordinal\", \"axis\": {\"labelAngle\": 0}, \"field\": \"hour\", \"title\": \"Hour (UTC)\"}, \"y\": {\"type\": \"quantitative\", \"field\": \"year\", \"title\": \"Review Count\"}}, \"height\": 200, \"title\": \"Reviews by Hour of Day for Various Fandoms\", \"width\": 200, \"$schema\": \"https://vega.github.io/schema/vega-lite/v4.8.1.json\", \"datasets\": {\"data-ad2982d138319bdee7cf4e1f5fe5b3d5\": [{\"fandom_id\": 2, \"hour\": 0, \"review_date\": 18483, \"year\": 18483, \"month\": 18483, \"day\": 18483}, {\"fandom_id\": 2, \"hour\": 1, \"review_date\": 19527, \"year\": 19527, \"month\": 19527, \"day\": 19527}, {\"fandom_id\": 2, \"hour\": 2, \"review_date\": 20794, \"year\": 20794, \"month\": 20794, \"day\": 20794}, {\"fandom_id\": 2, \"hour\": 3, \"review_date\": 21282, \"year\": 21282, \"month\": 21282, \"day\": 21282}, {\"fandom_id\": 2, \"hour\": 4, \"review_date\": 19711, \"year\": 19711, \"month\": 19711, \"day\": 19711}, {\"fandom_id\": 2, \"hour\": 5, \"review_date\": 16575, \"year\": 16575, \"month\": 16575, \"day\": 16575}, {\"fandom_id\": 2, \"hour\": 6, \"review_date\": 13292, \"year\": 13292, \"month\": 13292, \"day\": 13292}, {\"fandom_id\": 2, \"hour\": 7, \"review_date\": 101506, \"year\": 101506, \"month\": 101506, \"day\": 101506}, {\"fandom_id\": 2, \"hour\": 8, \"review_date\": 54512, \"year\": 54512, \"month\": 54512, \"day\": 54512}, {\"fandom_id\": 2, \"hour\": 9, \"review_date\": 7629, \"year\": 7629, \"month\": 7629, \"day\": 7629}, {\"fandom_id\": 2, \"hour\": 10, \"review_date\": 7609, \"year\": 7609, \"month\": 7609, \"day\": 7609}, {\"fandom_id\": 2, \"hour\": 11, \"review_date\": 7999, \"year\": 7999, \"month\": 7999, \"day\": 7999}, {\"fandom_id\": 2, \"hour\": 12, \"review_date\": 8879, \"year\": 8879, \"month\": 8879, \"day\": 8879}, {\"fandom_id\": 2, \"hour\": 13, \"review_date\": 10091, \"year\": 10091, \"month\": 10091, \"day\": 10091}, {\"fandom_id\": 2, \"hour\": 14, \"review_date\": 11394, \"year\": 11394, \"month\": 11394, \"day\": 11394}, {\"fandom_id\": 2, \"hour\": 15, \"review_date\": 12072, \"year\": 12072, \"month\": 12072, \"day\": 12072}, {\"fandom_id\": 2, \"hour\": 16, \"review_date\": 12601, \"year\": 12601, \"month\": 12601, \"day\": 12601}, {\"fandom_id\": 2, \"hour\": 17, \"review_date\": 13051, \"year\": 13051, \"month\": 13051, \"day\": 13051}, {\"fandom_id\": 2, \"hour\": 18, \"review_date\": 13071, \"year\": 13071, \"month\": 13071, \"day\": 13071}, {\"fandom_id\": 2, \"hour\": 19, \"review_date\": 14235, \"year\": 14235, \"month\": 14235, \"day\": 14235}, {\"fandom_id\": 2, \"hour\": 20, \"review_date\": 15963, \"year\": 15963, \"month\": 15963, \"day\": 15963}, {\"fandom_id\": 2, \"hour\": 21, \"review_date\": 17143, \"year\": 17143, \"month\": 17143, \"day\": 17143}, {\"fandom_id\": 2, \"hour\": 22, \"review_date\": 17734, \"year\": 17734, \"month\": 17734, \"day\": 17734}, {\"fandom_id\": 2, \"hour\": 23, \"review_date\": 18030, \"year\": 18030, \"month\": 18030, \"day\": 18030}, {\"fandom_id\": 5, \"hour\": 0, \"review_date\": 5445, \"year\": 5445, \"month\": 5445, \"day\": 5445}, {\"fandom_id\": 5, \"hour\": 1, \"review_date\": 5482, \"year\": 5482, \"month\": 5482, \"day\": 5482}, {\"fandom_id\": 5, \"hour\": 2, \"review_date\": 5642, \"year\": 5642, \"month\": 5642, \"day\": 5642}, {\"fandom_id\": 5, \"hour\": 3, \"review_date\": 5642, \"year\": 5642, \"month\": 5642, \"day\": 5642}, {\"fandom_id\": 5, \"hour\": 4, \"review_date\": 5368, \"year\": 5368, \"month\": 5368, \"day\": 5368}, {\"fandom_id\": 5, \"hour\": 5, \"review_date\": 4769, \"year\": 4769, \"month\": 4769, \"day\": 4769}, {\"fandom_id\": 5, \"hour\": 6, \"review_date\": 3846, \"year\": 3846, \"month\": 3846, \"day\": 3846}, {\"fandom_id\": 5, \"hour\": 7, \"review_date\": 221742, \"year\": 221742, \"month\": 221742, \"day\": 221742}, {\"fandom_id\": 5, \"hour\": 8, \"review_date\": 151582, \"year\": 151582, \"month\": 151582, \"day\": 151582}, {\"fandom_id\": 5, \"hour\": 9, \"review_date\": 1957, \"year\": 1957, \"month\": 1957, \"day\": 1957}, {\"fandom_id\": 5, \"hour\": 10, \"review_date\": 1763, \"year\": 1763, \"month\": 1763, \"day\": 1763}, {\"fandom_id\": 5, \"hour\": 11, \"review_date\": 1990, \"year\": 1990, \"month\": 1990, \"day\": 1990}, {\"fandom_id\": 5, \"hour\": 12, \"review_date\": 2535, \"year\": 2535, \"month\": 2535, \"day\": 2535}, {\"fandom_id\": 5, \"hour\": 13, \"review_date\": 2860, \"year\": 2860, \"month\": 2860, \"day\": 2860}, {\"fandom_id\": 5, \"hour\": 14, \"review_date\": 3202, \"year\": 3202, \"month\": 3202, \"day\": 3202}, {\"fandom_id\": 5, \"hour\": 15, \"review_date\": 3466, \"year\": 3466, \"month\": 3466, \"day\": 3466}, {\"fandom_id\": 5, \"hour\": 16, \"review_date\": 3743, \"year\": 3743, \"month\": 3743, \"day\": 3743}, {\"fandom_id\": 5, \"hour\": 17, \"review_date\": 3863, \"year\": 3863, \"month\": 3863, \"day\": 3863}, {\"fandom_id\": 5, \"hour\": 18, \"review_date\": 3988, \"year\": 3988, \"month\": 3988, \"day\": 3988}, {\"fandom_id\": 5, \"hour\": 19, \"review_date\": 4511, \"year\": 4511, \"month\": 4511, \"day\": 4511}, {\"fandom_id\": 5, \"hour\": 20, \"review_date\": 5031, \"year\": 5031, \"month\": 5031, \"day\": 5031}, {\"fandom_id\": 5, \"hour\": 21, \"review_date\": 5148, \"year\": 5148, \"month\": 5148, \"day\": 5148}, {\"fandom_id\": 5, \"hour\": 22, \"review_date\": 5346, \"year\": 5346, \"month\": 5346, \"day\": 5346}, {\"fandom_id\": 5, \"hour\": 23, \"review_date\": 5019, \"year\": 5019, \"month\": 5019, \"day\": 5019}, {\"fandom_id\": 6, \"hour\": 0, \"review_date\": 23234, \"year\": 23234, \"month\": 23234, \"day\": 23234}, {\"fandom_id\": 6, \"hour\": 1, \"review_date\": 24261, \"year\": 24261, \"month\": 24261, \"day\": 24261}, {\"fandom_id\": 6, \"hour\": 2, \"review_date\": 26217, \"year\": 26217, \"month\": 26217, \"day\": 26217}, {\"fandom_id\": 6, \"hour\": 3, \"review_date\": 26603, \"year\": 26603, \"month\": 26603, \"day\": 26603}, {\"fandom_id\": 6, \"hour\": 4, \"review_date\": 25243, \"year\": 25243, \"month\": 25243, \"day\": 25243}, {\"fandom_id\": 6, \"hour\": 5, \"review_date\": 22681, \"year\": 22681, \"month\": 22681, \"day\": 22681}, {\"fandom_id\": 6, \"hour\": 6, \"review_date\": 19591, \"year\": 19591, \"month\": 19591, \"day\": 19591}, {\"fandom_id\": 6, \"hour\": 7, \"review_date\": 27796, \"year\": 27796, \"month\": 27796, \"day\": 27796}, {\"fandom_id\": 6, \"hour\": 8, \"review_date\": 20445, \"year\": 20445, \"month\": 20445, \"day\": 20445}, {\"fandom_id\": 6, \"hour\": 9, \"review_date\": 12878, \"year\": 12878, \"month\": 12878, \"day\": 12878}, {\"fandom_id\": 6, \"hour\": 10, \"review_date\": 12649, \"year\": 12649, \"month\": 12649, \"day\": 12649}, {\"fandom_id\": 6, \"hour\": 11, \"review_date\": 13699, \"year\": 13699, \"month\": 13699, \"day\": 13699}, {\"fandom_id\": 6, \"hour\": 12, \"review_date\": 14564, \"year\": 14564, \"month\": 14564, \"day\": 14564}, {\"fandom_id\": 6, \"hour\": 13, \"review_date\": 16383, \"year\": 16383, \"month\": 16383, \"day\": 16383}, {\"fandom_id\": 6, \"hour\": 14, \"review_date\": 17588, \"year\": 17588, \"month\": 17588, \"day\": 17588}, {\"fandom_id\": 6, \"hour\": 15, \"review_date\": 18495, \"year\": 18495, \"month\": 18495, \"day\": 18495}, {\"fandom_id\": 6, \"hour\": 16, \"review_date\": 18878, \"year\": 18878, \"month\": 18878, \"day\": 18878}, {\"fandom_id\": 6, \"hour\": 17, \"review_date\": 18763, \"year\": 18763, \"month\": 18763, \"day\": 18763}, {\"fandom_id\": 6, \"hour\": 18, \"review_date\": 18392, \"year\": 18392, \"month\": 18392, \"day\": 18392}, {\"fandom_id\": 6, \"hour\": 19, \"review_date\": 19416, \"year\": 19416, \"month\": 19416, \"day\": 19416}, {\"fandom_id\": 6, \"hour\": 20, \"review_date\": 21140, \"year\": 21140, \"month\": 21140, \"day\": 21140}, {\"fandom_id\": 6, \"hour\": 21, \"review_date\": 22056, \"year\": 22056, \"month\": 22056, \"day\": 22056}, {\"fandom_id\": 6, \"hour\": 22, \"review_date\": 23241, \"year\": 23241, \"month\": 23241, \"day\": 23241}, {\"fandom_id\": 6, \"hour\": 23, \"review_date\": 23234, \"year\": 23234, \"month\": 23234, \"day\": 23234}, {\"fandom_id\": 27, \"hour\": 0, \"review_date\": 5405, \"year\": 5405, \"month\": 5405, \"day\": 5405}, {\"fandom_id\": 27, \"hour\": 1, \"review_date\": 5626, \"year\": 5626, \"month\": 5626, \"day\": 5626}, {\"fandom_id\": 27, \"hour\": 2, \"review_date\": 6480, \"year\": 6480, \"month\": 6480, \"day\": 6480}, {\"fandom_id\": 27, \"hour\": 3, \"review_date\": 6959, \"year\": 6959, \"month\": 6959, \"day\": 6959}, {\"fandom_id\": 27, \"hour\": 4, \"review_date\": 6307, \"year\": 6307, \"month\": 6307, \"day\": 6307}, {\"fandom_id\": 27, \"hour\": 5, \"review_date\": 5597, \"year\": 5597, \"month\": 5597, \"day\": 5597}, {\"fandom_id\": 27, \"hour\": 6, \"review_date\": 4873, \"year\": 4873, \"month\": 4873, \"day\": 4873}, {\"fandom_id\": 27, \"hour\": 7, \"review_date\": 3765, \"year\": 3765, \"month\": 3765, \"day\": 3765}, {\"fandom_id\": 27, \"hour\": 8, \"review_date\": 2937, \"year\": 2937, \"month\": 2937, \"day\": 2937}, {\"fandom_id\": 27, \"hour\": 9, \"review_date\": 2617, \"year\": 2617, \"month\": 2617, \"day\": 2617}, {\"fandom_id\": 27, \"hour\": 10, \"review_date\": 2393, \"year\": 2393, \"month\": 2393, \"day\": 2393}, {\"fandom_id\": 27, \"hour\": 11, \"review_date\": 2368, \"year\": 2368, \"month\": 2368, \"day\": 2368}, {\"fandom_id\": 27, \"hour\": 12, \"review_date\": 2823, \"year\": 2823, \"month\": 2823, \"day\": 2823}, {\"fandom_id\": 27, \"hour\": 13, \"review_date\": 3462, \"year\": 3462, \"month\": 3462, \"day\": 3462}, {\"fandom_id\": 27, \"hour\": 14, \"review_date\": 3825, \"year\": 3825, \"month\": 3825, \"day\": 3825}, {\"fandom_id\": 27, \"hour\": 15, \"review_date\": 4005, \"year\": 4005, \"month\": 4005, \"day\": 4005}, {\"fandom_id\": 27, \"hour\": 16, \"review_date\": 4374, \"year\": 4374, \"month\": 4374, \"day\": 4374}, {\"fandom_id\": 27, \"hour\": 17, \"review_date\": 4334, \"year\": 4334, \"month\": 4334, \"day\": 4334}, {\"fandom_id\": 27, \"hour\": 18, \"review_date\": 4308, \"year\": 4308, \"month\": 4308, \"day\": 4308}, {\"fandom_id\": 27, \"hour\": 19, \"review_date\": 4359, \"year\": 4359, \"month\": 4359, \"day\": 4359}, {\"fandom_id\": 27, \"hour\": 20, \"review_date\": 4823, \"year\": 4823, \"month\": 4823, \"day\": 4823}, {\"fandom_id\": 27, \"hour\": 21, \"review_date\": 5072, \"year\": 5072, \"month\": 5072, \"day\": 5072}, {\"fandom_id\": 27, \"hour\": 22, \"review_date\": 5157, \"year\": 5157, \"month\": 5157, \"day\": 5157}, {\"fandom_id\": 27, \"hour\": 23, \"review_date\": 5399, \"year\": 5399, \"month\": 5399, \"day\": 5399}]}}, {\"mode\": \"vega-lite\"});\n</script>",
      "text/plain": [
       "alt.Chart(...)"
      ]
     },
     "metadata": {},
     "execution_count": 50
    }
   ],
   "source": [
    "fandom_one_vis = alt.Chart(fandom_one_dist).mark_bar().encode(\n",
    "    x = alt.X('hour:O', title = \"Hour (UTC)\", axis= alt.Axis(labelAngle=0)),\n",
    "    y = alt.Y('year:Q', title = \"Review Count\"),\n",
    "    column = alt.Column('fandom_id:O', title = \"Fandom ID\")\n",
    ").properties(\n",
    "    title=\"Reviews by Hour of Day for Various Fandoms\",\n",
    "    width=200, \n",
    "    height = 200\n",
    ")\n",
    "altair_saver.save(fandom_one_vis, 'initial.png', scale_factor = 5)\n",
    "fandom_one_vis"
   ]
  },
  {
   "source": [
    "Now we will move on to exploring the distribution across years."
   ],
   "cell_type": "markdown",
   "metadata": {}
  },
  {
   "cell_type": "code",
   "execution_count": 51,
   "metadata": {},
   "outputs": [
    {
     "output_type": "execute_result",
     "data": {
      "text/plain": [
       "   hour  year  review_date  fandom_id   month     day  year_sum\n",
       "0     0  1970           31         31      31      31        31\n",
       "1     0  2011        10033      10033   10033   10033   3843809\n",
       "2     0  2012       275515     275515  275515  275515   5290767"
      ],
      "text/html": "<div>\n<style scoped>\n    .dataframe tbody tr th:only-of-type {\n        vertical-align: middle;\n    }\n\n    .dataframe tbody tr th {\n        vertical-align: top;\n    }\n\n    .dataframe thead th {\n        text-align: right;\n    }\n</style>\n<table border=\"1\" class=\"dataframe\">\n  <thead>\n    <tr style=\"text-align: right;\">\n      <th></th>\n      <th>hour</th>\n      <th>year</th>\n      <th>review_date</th>\n      <th>fandom_id</th>\n      <th>month</th>\n      <th>day</th>\n      <th>year_sum</th>\n    </tr>\n  </thead>\n  <tbody>\n    <tr>\n      <th>0</th>\n      <td>0</td>\n      <td>1970</td>\n      <td>31</td>\n      <td>31</td>\n      <td>31</td>\n      <td>31</td>\n      <td>31</td>\n    </tr>\n    <tr>\n      <th>1</th>\n      <td>0</td>\n      <td>2011</td>\n      <td>10033</td>\n      <td>10033</td>\n      <td>10033</td>\n      <td>10033</td>\n      <td>3843809</td>\n    </tr>\n    <tr>\n      <th>2</th>\n      <td>0</td>\n      <td>2012</td>\n      <td>275515</td>\n      <td>275515</td>\n      <td>275515</td>\n      <td>275515</td>\n      <td>5290767</td>\n    </tr>\n  </tbody>\n</table>\n</div>"
     },
     "metadata": {},
     "execution_count": 51
    }
   ],
   "source": [
    "hour_year_count = review_big.groupby(['hour', 'year']).count()\n",
    "hour_year_count = hour_year_count.reset_index()\n",
    "count = hour_year_count.groupby('year').sum()['review_date'].rename('year_sum')\n",
    "hour_year_count = hour_year_count.join(count, on='year')\n",
    "hour_year_count.head(3)"
   ]
  },
  {
   "source": [],
   "cell_type": "markdown",
   "metadata": {}
  },
  {
   "cell_type": "code",
   "execution_count": 52,
   "metadata": {},
   "outputs": [
    {
     "output_type": "execute_result",
     "data": {
      "text/plain": [
       "   year  hour  percentage_annual  color\n",
       "0  2000     0                0.0  black\n",
       "1  2000     1                0.0  black\n",
       "2  2000     2                0.0  black"
      ],
      "text/html": "<div>\n<style scoped>\n    .dataframe tbody tr th:only-of-type {\n        vertical-align: middle;\n    }\n\n    .dataframe tbody tr th {\n        vertical-align: top;\n    }\n\n    .dataframe thead th {\n        text-align: right;\n    }\n</style>\n<table border=\"1\" class=\"dataframe\">\n  <thead>\n    <tr style=\"text-align: right;\">\n      <th></th>\n      <th>year</th>\n      <th>hour</th>\n      <th>percentage_annual</th>\n      <th>color</th>\n    </tr>\n  </thead>\n  <tbody>\n    <tr>\n      <th>0</th>\n      <td>2000</td>\n      <td>0</td>\n      <td>0.0</td>\n      <td>black</td>\n    </tr>\n    <tr>\n      <th>1</th>\n      <td>2000</td>\n      <td>1</td>\n      <td>0.0</td>\n      <td>black</td>\n    </tr>\n    <tr>\n      <th>2</th>\n      <td>2000</td>\n      <td>2</td>\n      <td>0.0</td>\n      <td>black</td>\n    </tr>\n  </tbody>\n</table>\n</div>"
     },
     "metadata": {},
     "execution_count": 52
    }
   ],
   "source": [
    "hour_year_count['percentage_annual'] = hour_year_count['review_date'] / hour_year_count['year_sum'] * 100\n",
    "hour_year_count = hour_year_count[hour_year_count['year'] > 1999].copy()\n",
    "def color_opposite(percentage):\n",
    "    if percentage > 10:\n",
    "        return \"white\"\n",
    "    return \"black\"\n",
    "hour_year_count = hour_year_count.set_index(['year', 'hour'])['percentage_annual'].unstack(fill_value=0).stack().reset_index(name='percentage_annual')\n",
    "hour_year_count['color'] = hour_year_count['percentage_annual'].apply(color_opposite)\n",
    "# hour_year_count['color'] = hour_year_count['percentage_annual'].apply(color_opposite)\n",
    "hour_year_count.head(3)"
   ]
  },
  {
   "cell_type": "code",
   "execution_count": 221,
   "metadata": {},
   "outputs": [],
   "source": []
  },
  {
   "cell_type": "code",
   "execution_count": 53,
   "metadata": {},
   "outputs": [
    {
     "output_type": "execute_result",
     "data": {
      "text/html": "\n<div id=\"altair-viz-bd14bf1ced4743c0ab8084751966e5f6\"></div>\n<script type=\"text/javascript\">\n  (function(spec, embedOpt){\n    let outputDiv = document.currentScript.previousElementSibling;\n    if (outputDiv.id !== \"altair-viz-bd14bf1ced4743c0ab8084751966e5f6\") {\n      outputDiv = document.getElementById(\"altair-viz-bd14bf1ced4743c0ab8084751966e5f6\");\n    }\n    const paths = {\n      \"vega\": \"https://cdn.jsdelivr.net/npm//vega@5?noext\",\n      \"vega-lib\": \"https://cdn.jsdelivr.net/npm//vega-lib?noext\",\n      \"vega-lite\": \"https://cdn.jsdelivr.net/npm//vega-lite@4.8.1?noext\",\n      \"vega-embed\": \"https://cdn.jsdelivr.net/npm//vega-embed@6?noext\",\n    };\n\n    function loadScript(lib) {\n      return new Promise(function(resolve, reject) {\n        var s = document.createElement('script');\n        s.src = paths[lib];\n        s.async = true;\n        s.onload = () => resolve(paths[lib]);\n        s.onerror = () => reject(`Error loading script: ${paths[lib]}`);\n        document.getElementsByTagName(\"head\")[0].appendChild(s);\n      });\n    }\n\n    function showError(err) {\n      outputDiv.innerHTML = `<div class=\"error\" style=\"color:red;\">${err}</div>`;\n      throw err;\n    }\n\n    function displayChart(vegaEmbed) {\n      vegaEmbed(outputDiv, spec, embedOpt)\n        .catch(err => showError(`Javascript Error: ${err.message}<br>This usually means there's a typo in your chart specification. See the javascript console for the full traceback.`));\n    }\n\n    if(typeof define === \"function\" && define.amd) {\n      requirejs.config({paths});\n      require([\"vega-embed\"], displayChart, err => showError(`Error loading script: ${err.message}`));\n    } else if (typeof vegaEmbed === \"function\") {\n      displayChart(vegaEmbed);\n    } else {\n      loadScript(\"vega\")\n        .then(() => loadScript(\"vega-lite\"))\n        .then(() => loadScript(\"vega-embed\"))\n        .catch(showError)\n        .then(() => displayChart(vegaEmbed));\n    }\n  })({\"config\": {\"view\": {\"continuousWidth\": 400, \"continuousHeight\": 300}}, \"layer\": [{\"mark\": \"rect\", \"encoding\": {\"color\": {\"type\": \"quantitative\", \"condition\": {\"value\": \"lightgrey\", \"test\": \"(datum.percentage_annual === 0)\"}, \"field\": \"percentage_annual\", \"legend\": null, \"title\": null}, \"x\": {\"type\": \"ordinal\", \"axis\": {\"labelAngle\": 0}, \"field\": \"hour\", \"title\": \"Hour (UTC)\"}, \"y\": {\"type\": \"ordinal\", \"field\": \"year\", \"title\": \"Year\"}}}, {\"mark\": \"text\", \"encoding\": {\"color\": {\"type\": \"nominal\", \"field\": \"color\", \"scale\": null}, \"text\": {\"type\": \"quantitative\", \"field\": \"percentage_annual\", \"format\": \".1f\"}, \"x\": {\"type\": \"ordinal\", \"field\": \"hour\", \"title\": \"Hour (UTC)\"}, \"y\": {\"type\": \"ordinal\", \"field\": \"year\", \"title\": \"Year\"}}}], \"data\": {\"name\": \"data-4010342a890bbb74a8e38be81df00c98\"}, \"height\": 400, \"resolve\": {\"scale\": {\"color\": \"independent\"}}, \"title\": \"Hourly Review Distibution by Year\", \"width\": 800, \"$schema\": \"https://vega.github.io/schema/vega-lite/v4.8.1.json\", \"datasets\": {\"data-4010342a890bbb74a8e38be81df00c98\": [{\"year\": 2000, \"hour\": 0, \"percentage_annual\": 0.0, \"color\": \"black\"}, {\"year\": 2000, \"hour\": 1, \"percentage_annual\": 0.0, \"color\": \"black\"}, {\"year\": 2000, \"hour\": 2, \"percentage_annual\": 0.0, \"color\": \"black\"}, {\"year\": 2000, \"hour\": 3, \"percentage_annual\": 0.0, \"color\": \"black\"}, {\"year\": 2000, \"hour\": 4, \"percentage_annual\": 0.0, \"color\": \"black\"}, {\"year\": 2000, \"hour\": 5, \"percentage_annual\": 0.0, \"color\": \"black\"}, {\"year\": 2000, \"hour\": 6, \"percentage_annual\": 0.0, \"color\": \"black\"}, {\"year\": 2000, \"hour\": 7, \"percentage_annual\": 67.95985769321175, \"color\": \"white\"}, {\"year\": 2000, \"hour\": 8, \"percentage_annual\": 32.040142306788255, \"color\": \"white\"}, {\"year\": 2000, \"hour\": 9, \"percentage_annual\": 0.0, \"color\": \"black\"}, {\"year\": 2000, \"hour\": 10, \"percentage_annual\": 0.0, \"color\": \"black\"}, {\"year\": 2000, \"hour\": 11, \"percentage_annual\": 0.0, \"color\": \"black\"}, {\"year\": 2000, \"hour\": 12, \"percentage_annual\": 0.0, \"color\": \"black\"}, {\"year\": 2000, \"hour\": 13, \"percentage_annual\": 0.0, \"color\": \"black\"}, {\"year\": 2000, \"hour\": 14, \"percentage_annual\": 0.0, \"color\": \"black\"}, {\"year\": 2000, \"hour\": 15, \"percentage_annual\": 0.0, \"color\": \"black\"}, {\"year\": 2000, \"hour\": 16, \"percentage_annual\": 0.0, \"color\": \"black\"}, {\"year\": 2000, \"hour\": 17, \"percentage_annual\": 0.0, \"color\": \"black\"}, {\"year\": 2000, \"hour\": 18, \"percentage_annual\": 0.0, \"color\": \"black\"}, {\"year\": 2000, \"hour\": 19, \"percentage_annual\": 0.0, \"color\": \"black\"}, {\"year\": 2000, \"hour\": 20, \"percentage_annual\": 0.0, \"color\": \"black\"}, {\"year\": 2000, \"hour\": 21, \"percentage_annual\": 0.0, \"color\": \"black\"}, {\"year\": 2000, \"hour\": 22, \"percentage_annual\": 0.0, \"color\": \"black\"}, {\"year\": 2000, \"hour\": 23, \"percentage_annual\": 0.0, \"color\": \"black\"}, {\"year\": 2001, \"hour\": 0, \"percentage_annual\": 0.0, \"color\": \"black\"}, {\"year\": 2001, \"hour\": 1, \"percentage_annual\": 0.0, \"color\": \"black\"}, {\"year\": 2001, \"hour\": 2, \"percentage_annual\": 0.0, \"color\": \"black\"}, {\"year\": 2001, \"hour\": 3, \"percentage_annual\": 0.0, \"color\": \"black\"}, {\"year\": 2001, \"hour\": 4, \"percentage_annual\": 0.0, \"color\": \"black\"}, {\"year\": 2001, \"hour\": 5, \"percentage_annual\": 0.0, \"color\": \"black\"}, {\"year\": 2001, \"hour\": 6, \"percentage_annual\": 0.0, \"color\": \"black\"}, {\"year\": 2001, \"hour\": 7, \"percentage_annual\": 57.15269882940631, \"color\": \"white\"}, {\"year\": 2001, \"hour\": 8, \"percentage_annual\": 42.84730117059369, \"color\": \"white\"}, {\"year\": 2001, \"hour\": 9, \"percentage_annual\": 0.0, \"color\": \"black\"}, {\"year\": 2001, \"hour\": 10, \"percentage_annual\": 0.0, \"color\": \"black\"}, {\"year\": 2001, \"hour\": 11, \"percentage_annual\": 0.0, \"color\": \"black\"}, {\"year\": 2001, \"hour\": 12, \"percentage_annual\": 0.0, \"color\": \"black\"}, {\"year\": 2001, \"hour\": 13, \"percentage_annual\": 0.0, \"color\": \"black\"}, {\"year\": 2001, \"hour\": 14, \"percentage_annual\": 0.0, \"color\": \"black\"}, {\"year\": 2001, \"hour\": 15, \"percentage_annual\": 0.0, \"color\": \"black\"}, {\"year\": 2001, \"hour\": 16, \"percentage_annual\": 0.0, \"color\": \"black\"}, {\"year\": 2001, \"hour\": 17, \"percentage_annual\": 0.0, \"color\": \"black\"}, {\"year\": 2001, \"hour\": 18, \"percentage_annual\": 0.0, \"color\": \"black\"}, {\"year\": 2001, \"hour\": 19, \"percentage_annual\": 0.0, \"color\": \"black\"}, {\"year\": 2001, \"hour\": 20, \"percentage_annual\": 0.0, \"color\": \"black\"}, {\"year\": 2001, \"hour\": 21, \"percentage_annual\": 0.0, \"color\": \"black\"}, {\"year\": 2001, \"hour\": 22, \"percentage_annual\": 0.0, \"color\": \"black\"}, {\"year\": 2001, \"hour\": 23, \"percentage_annual\": 0.0, \"color\": \"black\"}, {\"year\": 2002, \"hour\": 0, \"percentage_annual\": 0.0, \"color\": \"black\"}, {\"year\": 2002, \"hour\": 1, \"percentage_annual\": 0.0, \"color\": \"black\"}, {\"year\": 2002, \"hour\": 2, \"percentage_annual\": 0.0, \"color\": \"black\"}, {\"year\": 2002, \"hour\": 3, \"percentage_annual\": 0.0, \"color\": \"black\"}, {\"year\": 2002, \"hour\": 4, \"percentage_annual\": 0.0, \"color\": \"black\"}, {\"year\": 2002, \"hour\": 5, \"percentage_annual\": 0.0, \"color\": \"black\"}, {\"year\": 2002, \"hour\": 6, \"percentage_annual\": 0.0, \"color\": \"black\"}, {\"year\": 2002, \"hour\": 7, \"percentage_annual\": 51.02452483589094, \"color\": \"white\"}, {\"year\": 2002, \"hour\": 8, \"percentage_annual\": 48.975475164109056, \"color\": \"white\"}, {\"year\": 2002, \"hour\": 9, \"percentage_annual\": 0.0, \"color\": \"black\"}, {\"year\": 2002, \"hour\": 10, \"percentage_annual\": 0.0, \"color\": \"black\"}, {\"year\": 2002, \"hour\": 11, \"percentage_annual\": 0.0, \"color\": \"black\"}, {\"year\": 2002, \"hour\": 12, \"percentage_annual\": 0.0, \"color\": \"black\"}, {\"year\": 2002, \"hour\": 13, \"percentage_annual\": 0.0, \"color\": \"black\"}, {\"year\": 2002, \"hour\": 14, \"percentage_annual\": 0.0, \"color\": \"black\"}, {\"year\": 2002, \"hour\": 15, \"percentage_annual\": 0.0, \"color\": \"black\"}, {\"year\": 2002, \"hour\": 16, \"percentage_annual\": 0.0, \"color\": \"black\"}, {\"year\": 2002, \"hour\": 17, \"percentage_annual\": 0.0, \"color\": \"black\"}, {\"year\": 2002, \"hour\": 18, \"percentage_annual\": 0.0, \"color\": \"black\"}, {\"year\": 2002, \"hour\": 19, \"percentage_annual\": 0.0, \"color\": \"black\"}, {\"year\": 2002, \"hour\": 20, \"percentage_annual\": 0.0, \"color\": \"black\"}, {\"year\": 2002, \"hour\": 21, \"percentage_annual\": 0.0, \"color\": \"black\"}, {\"year\": 2002, \"hour\": 22, \"percentage_annual\": 0.0, \"color\": \"black\"}, {\"year\": 2002, \"hour\": 23, \"percentage_annual\": 0.0, \"color\": \"black\"}, {\"year\": 2003, \"hour\": 0, \"percentage_annual\": 0.0, \"color\": \"black\"}, {\"year\": 2003, \"hour\": 1, \"percentage_annual\": 0.0, \"color\": \"black\"}, {\"year\": 2003, \"hour\": 2, \"percentage_annual\": 0.0, \"color\": \"black\"}, {\"year\": 2003, \"hour\": 3, \"percentage_annual\": 0.0, \"color\": \"black\"}, {\"year\": 2003, \"hour\": 4, \"percentage_annual\": 0.0, \"color\": \"black\"}, {\"year\": 2003, \"hour\": 5, \"percentage_annual\": 0.0, \"color\": \"black\"}, {\"year\": 2003, \"hour\": 6, \"percentage_annual\": 0.0, \"color\": \"black\"}, {\"year\": 2003, \"hour\": 7, \"percentage_annual\": 56.7975572342474, \"color\": \"white\"}, {\"year\": 2003, \"hour\": 8, \"percentage_annual\": 43.20244276575259, \"color\": \"white\"}, {\"year\": 2003, \"hour\": 9, \"percentage_annual\": 0.0, \"color\": \"black\"}, {\"year\": 2003, \"hour\": 10, \"percentage_annual\": 0.0, \"color\": \"black\"}, {\"year\": 2003, \"hour\": 11, \"percentage_annual\": 0.0, \"color\": \"black\"}, {\"year\": 2003, \"hour\": 12, \"percentage_annual\": 0.0, \"color\": \"black\"}, {\"year\": 2003, \"hour\": 13, \"percentage_annual\": 0.0, \"color\": \"black\"}, {\"year\": 2003, \"hour\": 14, \"percentage_annual\": 0.0, \"color\": \"black\"}, {\"year\": 2003, \"hour\": 15, \"percentage_annual\": 0.0, \"color\": \"black\"}, {\"year\": 2003, \"hour\": 16, \"percentage_annual\": 0.0, \"color\": \"black\"}, {\"year\": 2003, \"hour\": 17, \"percentage_annual\": 0.0, \"color\": \"black\"}, {\"year\": 2003, \"hour\": 18, \"percentage_annual\": 0.0, \"color\": \"black\"}, {\"year\": 2003, \"hour\": 19, \"percentage_annual\": 0.0, \"color\": \"black\"}, {\"year\": 2003, \"hour\": 20, \"percentage_annual\": 0.0, \"color\": \"black\"}, {\"year\": 2003, \"hour\": 21, \"percentage_annual\": 0.0, \"color\": \"black\"}, {\"year\": 2003, \"hour\": 22, \"percentage_annual\": 0.0, \"color\": \"black\"}, {\"year\": 2003, \"hour\": 23, \"percentage_annual\": 0.0, \"color\": \"black\"}, {\"year\": 2004, \"hour\": 0, \"percentage_annual\": 0.0, \"color\": \"black\"}, {\"year\": 2004, \"hour\": 1, \"percentage_annual\": 0.0, \"color\": \"black\"}, {\"year\": 2004, \"hour\": 2, \"percentage_annual\": 0.0, \"color\": \"black\"}, {\"year\": 2004, \"hour\": 3, \"percentage_annual\": 0.0, \"color\": \"black\"}, {\"year\": 2004, \"hour\": 4, \"percentage_annual\": 0.0, \"color\": \"black\"}, {\"year\": 2004, \"hour\": 5, \"percentage_annual\": 0.0, \"color\": \"black\"}, {\"year\": 2004, \"hour\": 6, \"percentage_annual\": 0.0, \"color\": \"black\"}, {\"year\": 2004, \"hour\": 7, \"percentage_annual\": 59.28834792301546, \"color\": \"white\"}, {\"year\": 2004, \"hour\": 8, \"percentage_annual\": 40.71165207698454, \"color\": \"white\"}, {\"year\": 2004, \"hour\": 9, \"percentage_annual\": 0.0, \"color\": \"black\"}, {\"year\": 2004, \"hour\": 10, \"percentage_annual\": 0.0, \"color\": \"black\"}, {\"year\": 2004, \"hour\": 11, \"percentage_annual\": 0.0, \"color\": \"black\"}, {\"year\": 2004, \"hour\": 12, \"percentage_annual\": 0.0, \"color\": \"black\"}, {\"year\": 2004, \"hour\": 13, \"percentage_annual\": 0.0, \"color\": \"black\"}, {\"year\": 2004, \"hour\": 14, \"percentage_annual\": 0.0, \"color\": \"black\"}, {\"year\": 2004, \"hour\": 15, \"percentage_annual\": 0.0, \"color\": \"black\"}, {\"year\": 2004, \"hour\": 16, \"percentage_annual\": 0.0, \"color\": \"black\"}, {\"year\": 2004, \"hour\": 17, \"percentage_annual\": 0.0, \"color\": \"black\"}, {\"year\": 2004, \"hour\": 18, \"percentage_annual\": 0.0, \"color\": \"black\"}, {\"year\": 2004, \"hour\": 19, \"percentage_annual\": 0.0, \"color\": \"black\"}, {\"year\": 2004, \"hour\": 20, \"percentage_annual\": 0.0, \"color\": \"black\"}, {\"year\": 2004, \"hour\": 21, \"percentage_annual\": 0.0, \"color\": \"black\"}, {\"year\": 2004, \"hour\": 22, \"percentage_annual\": 0.0, \"color\": \"black\"}, {\"year\": 2004, \"hour\": 23, \"percentage_annual\": 0.0, \"color\": \"black\"}, {\"year\": 2005, \"hour\": 0, \"percentage_annual\": 0.0, \"color\": \"black\"}, {\"year\": 2005, \"hour\": 1, \"percentage_annual\": 0.0, \"color\": \"black\"}, {\"year\": 2005, \"hour\": 2, \"percentage_annual\": 0.0, \"color\": \"black\"}, {\"year\": 2005, \"hour\": 3, \"percentage_annual\": 0.0, \"color\": \"black\"}, {\"year\": 2005, \"hour\": 4, \"percentage_annual\": 0.0, \"color\": \"black\"}, {\"year\": 2005, \"hour\": 5, \"percentage_annual\": 0.0, \"color\": \"black\"}, {\"year\": 2005, \"hour\": 6, \"percentage_annual\": 0.0, \"color\": \"black\"}, {\"year\": 2005, \"hour\": 7, \"percentage_annual\": 59.40136551767261, \"color\": \"white\"}, {\"year\": 2005, \"hour\": 8, \"percentage_annual\": 40.5986344823274, \"color\": \"white\"}, {\"year\": 2005, \"hour\": 9, \"percentage_annual\": 0.0, \"color\": \"black\"}, {\"year\": 2005, \"hour\": 10, \"percentage_annual\": 0.0, \"color\": \"black\"}, {\"year\": 2005, \"hour\": 11, \"percentage_annual\": 0.0, \"color\": \"black\"}, {\"year\": 2005, \"hour\": 12, \"percentage_annual\": 0.0, \"color\": \"black\"}, {\"year\": 2005, \"hour\": 13, \"percentage_annual\": 0.0, \"color\": \"black\"}, {\"year\": 2005, \"hour\": 14, \"percentage_annual\": 0.0, \"color\": \"black\"}, {\"year\": 2005, \"hour\": 15, \"percentage_annual\": 0.0, \"color\": \"black\"}, {\"year\": 2005, \"hour\": 16, \"percentage_annual\": 0.0, \"color\": \"black\"}, {\"year\": 2005, \"hour\": 17, \"percentage_annual\": 0.0, \"color\": \"black\"}, {\"year\": 2005, \"hour\": 18, \"percentage_annual\": 0.0, \"color\": \"black\"}, {\"year\": 2005, \"hour\": 19, \"percentage_annual\": 0.0, \"color\": \"black\"}, {\"year\": 2005, \"hour\": 20, \"percentage_annual\": 0.0, \"color\": \"black\"}, {\"year\": 2005, \"hour\": 21, \"percentage_annual\": 0.0, \"color\": \"black\"}, {\"year\": 2005, \"hour\": 22, \"percentage_annual\": 0.0, \"color\": \"black\"}, {\"year\": 2005, \"hour\": 23, \"percentage_annual\": 0.0, \"color\": \"black\"}, {\"year\": 2006, \"hour\": 0, \"percentage_annual\": 0.0, \"color\": \"black\"}, {\"year\": 2006, \"hour\": 1, \"percentage_annual\": 0.0, \"color\": \"black\"}, {\"year\": 2006, \"hour\": 2, \"percentage_annual\": 0.0, \"color\": \"black\"}, {\"year\": 2006, \"hour\": 3, \"percentage_annual\": 0.0, \"color\": \"black\"}, {\"year\": 2006, \"hour\": 4, \"percentage_annual\": 0.0, \"color\": \"black\"}, {\"year\": 2006, \"hour\": 5, \"percentage_annual\": 0.0, \"color\": \"black\"}, {\"year\": 2006, \"hour\": 6, \"percentage_annual\": 0.0, \"color\": \"black\"}, {\"year\": 2006, \"hour\": 7, \"percentage_annual\": 58.57293990552107, \"color\": \"white\"}, {\"year\": 2006, \"hour\": 8, \"percentage_annual\": 41.42706009447893, \"color\": \"white\"}, {\"year\": 2006, \"hour\": 9, \"percentage_annual\": 0.0, \"color\": \"black\"}, {\"year\": 2006, \"hour\": 10, \"percentage_annual\": 0.0, \"color\": \"black\"}, {\"year\": 2006, \"hour\": 11, \"percentage_annual\": 0.0, \"color\": \"black\"}, {\"year\": 2006, \"hour\": 12, \"percentage_annual\": 0.0, \"color\": \"black\"}, {\"year\": 2006, \"hour\": 13, \"percentage_annual\": 0.0, \"color\": \"black\"}, {\"year\": 2006, \"hour\": 14, \"percentage_annual\": 0.0, \"color\": \"black\"}, {\"year\": 2006, \"hour\": 15, \"percentage_annual\": 0.0, \"color\": \"black\"}, {\"year\": 2006, \"hour\": 16, \"percentage_annual\": 0.0, \"color\": \"black\"}, {\"year\": 2006, \"hour\": 17, \"percentage_annual\": 0.0, \"color\": \"black\"}, {\"year\": 2006, \"hour\": 18, \"percentage_annual\": 0.0, \"color\": \"black\"}, {\"year\": 2006, \"hour\": 19, \"percentage_annual\": 0.0, \"color\": \"black\"}, {\"year\": 2006, \"hour\": 20, \"percentage_annual\": 0.0, \"color\": \"black\"}, {\"year\": 2006, \"hour\": 21, \"percentage_annual\": 0.0, \"color\": \"black\"}, {\"year\": 2006, \"hour\": 22, \"percentage_annual\": 0.0, \"color\": \"black\"}, {\"year\": 2006, \"hour\": 23, \"percentage_annual\": 0.0, \"color\": \"black\"}, {\"year\": 2007, \"hour\": 0, \"percentage_annual\": 0.0, \"color\": \"black\"}, {\"year\": 2007, \"hour\": 1, \"percentage_annual\": 0.0, \"color\": \"black\"}, {\"year\": 2007, \"hour\": 2, \"percentage_annual\": 0.0, \"color\": \"black\"}, {\"year\": 2007, \"hour\": 3, \"percentage_annual\": 0.0, \"color\": \"black\"}, {\"year\": 2007, \"hour\": 4, \"percentage_annual\": 0.0, \"color\": \"black\"}, {\"year\": 2007, \"hour\": 5, \"percentage_annual\": 0.0, \"color\": \"black\"}, {\"year\": 2007, \"hour\": 6, \"percentage_annual\": 0.0, \"color\": \"black\"}, {\"year\": 2007, \"hour\": 7, \"percentage_annual\": 66.26784772998766, \"color\": \"white\"}, {\"year\": 2007, \"hour\": 8, \"percentage_annual\": 33.73215227001234, \"color\": \"white\"}, {\"year\": 2007, \"hour\": 9, \"percentage_annual\": 0.0, \"color\": \"black\"}, {\"year\": 2007, \"hour\": 10, \"percentage_annual\": 0.0, \"color\": \"black\"}, {\"year\": 2007, \"hour\": 11, \"percentage_annual\": 0.0, \"color\": \"black\"}, {\"year\": 2007, \"hour\": 12, \"percentage_annual\": 0.0, \"color\": \"black\"}, {\"year\": 2007, \"hour\": 13, \"percentage_annual\": 0.0, \"color\": \"black\"}, {\"year\": 2007, \"hour\": 14, \"percentage_annual\": 0.0, \"color\": \"black\"}, {\"year\": 2007, \"hour\": 15, \"percentage_annual\": 0.0, \"color\": \"black\"}, {\"year\": 2007, \"hour\": 16, \"percentage_annual\": 0.0, \"color\": \"black\"}, {\"year\": 2007, \"hour\": 17, \"percentage_annual\": 0.0, \"color\": \"black\"}, {\"year\": 2007, \"hour\": 18, \"percentage_annual\": 0.0, \"color\": \"black\"}, {\"year\": 2007, \"hour\": 19, \"percentage_annual\": 0.0, \"color\": \"black\"}, {\"year\": 2007, \"hour\": 20, \"percentage_annual\": 0.0, \"color\": \"black\"}, {\"year\": 2007, \"hour\": 21, \"percentage_annual\": 0.0, \"color\": \"black\"}, {\"year\": 2007, \"hour\": 22, \"percentage_annual\": 0.0, \"color\": \"black\"}, {\"year\": 2007, \"hour\": 23, \"percentage_annual\": 0.0, \"color\": \"black\"}, {\"year\": 2008, \"hour\": 0, \"percentage_annual\": 0.0, \"color\": \"black\"}, {\"year\": 2008, \"hour\": 1, \"percentage_annual\": 0.0, \"color\": \"black\"}, {\"year\": 2008, \"hour\": 2, \"percentage_annual\": 0.0, \"color\": \"black\"}, {\"year\": 2008, \"hour\": 3, \"percentage_annual\": 0.0, \"color\": \"black\"}, {\"year\": 2008, \"hour\": 4, \"percentage_annual\": 0.0, \"color\": \"black\"}, {\"year\": 2008, \"hour\": 5, \"percentage_annual\": 0.0, \"color\": \"black\"}, {\"year\": 2008, \"hour\": 6, \"percentage_annual\": 0.0, \"color\": \"black\"}, {\"year\": 2008, \"hour\": 7, \"percentage_annual\": 64.50955511977544, \"color\": \"white\"}, {\"year\": 2008, \"hour\": 8, \"percentage_annual\": 35.49044488022455, \"color\": \"white\"}, {\"year\": 2008, \"hour\": 9, \"percentage_annual\": 0.0, \"color\": \"black\"}, {\"year\": 2008, \"hour\": 10, \"percentage_annual\": 0.0, \"color\": \"black\"}, {\"year\": 2008, \"hour\": 11, \"percentage_annual\": 0.0, \"color\": \"black\"}, {\"year\": 2008, \"hour\": 12, \"percentage_annual\": 0.0, \"color\": \"black\"}, {\"year\": 2008, \"hour\": 13, \"percentage_annual\": 0.0, \"color\": \"black\"}, {\"year\": 2008, \"hour\": 14, \"percentage_annual\": 0.0, \"color\": \"black\"}, {\"year\": 2008, \"hour\": 15, \"percentage_annual\": 0.0, \"color\": \"black\"}, {\"year\": 2008, \"hour\": 16, \"percentage_annual\": 0.0, \"color\": \"black\"}, {\"year\": 2008, \"hour\": 17, \"percentage_annual\": 0.0, \"color\": \"black\"}, {\"year\": 2008, \"hour\": 18, \"percentage_annual\": 0.0, \"color\": \"black\"}, {\"year\": 2008, \"hour\": 19, \"percentage_annual\": 0.0, \"color\": \"black\"}, {\"year\": 2008, \"hour\": 20, \"percentage_annual\": 0.0, \"color\": \"black\"}, {\"year\": 2008, \"hour\": 21, \"percentage_annual\": 0.0, \"color\": \"black\"}, {\"year\": 2008, \"hour\": 22, \"percentage_annual\": 0.0, \"color\": \"black\"}, {\"year\": 2008, \"hour\": 23, \"percentage_annual\": 0.0, \"color\": \"black\"}, {\"year\": 2009, \"hour\": 0, \"percentage_annual\": 0.0, \"color\": \"black\"}, {\"year\": 2009, \"hour\": 1, \"percentage_annual\": 0.0, \"color\": \"black\"}, {\"year\": 2009, \"hour\": 2, \"percentage_annual\": 0.0, \"color\": \"black\"}, {\"year\": 2009, \"hour\": 3, \"percentage_annual\": 0.0, \"color\": \"black\"}, {\"year\": 2009, \"hour\": 4, \"percentage_annual\": 0.0, \"color\": \"black\"}, {\"year\": 2009, \"hour\": 5, \"percentage_annual\": 0.0, \"color\": \"black\"}, {\"year\": 2009, \"hour\": 6, \"percentage_annual\": 0.0, \"color\": \"black\"}, {\"year\": 2009, \"hour\": 7, \"percentage_annual\": 66.90085781872598, \"color\": \"white\"}, {\"year\": 2009, \"hour\": 8, \"percentage_annual\": 33.09914218127402, \"color\": \"white\"}, {\"year\": 2009, \"hour\": 9, \"percentage_annual\": 0.0, \"color\": \"black\"}, {\"year\": 2009, \"hour\": 10, \"percentage_annual\": 0.0, \"color\": \"black\"}, {\"year\": 2009, \"hour\": 11, \"percentage_annual\": 0.0, \"color\": \"black\"}, {\"year\": 2009, \"hour\": 12, \"percentage_annual\": 0.0, \"color\": \"black\"}, {\"year\": 2009, \"hour\": 13, \"percentage_annual\": 0.0, \"color\": \"black\"}, {\"year\": 2009, \"hour\": 14, \"percentage_annual\": 0.0, \"color\": \"black\"}, {\"year\": 2009, \"hour\": 15, \"percentage_annual\": 0.0, \"color\": \"black\"}, {\"year\": 2009, \"hour\": 16, \"percentage_annual\": 0.0, \"color\": \"black\"}, {\"year\": 2009, \"hour\": 17, \"percentage_annual\": 0.0, \"color\": \"black\"}, {\"year\": 2009, \"hour\": 18, \"percentage_annual\": 0.0, \"color\": \"black\"}, {\"year\": 2009, \"hour\": 19, \"percentage_annual\": 0.0, \"color\": \"black\"}, {\"year\": 2009, \"hour\": 20, \"percentage_annual\": 0.0, \"color\": \"black\"}, {\"year\": 2009, \"hour\": 21, \"percentage_annual\": 0.0, \"color\": \"black\"}, {\"year\": 2009, \"hour\": 22, \"percentage_annual\": 0.0, \"color\": \"black\"}, {\"year\": 2009, \"hour\": 23, \"percentage_annual\": 0.0, \"color\": \"black\"}, {\"year\": 2010, \"hour\": 0, \"percentage_annual\": 0.0, \"color\": \"black\"}, {\"year\": 2010, \"hour\": 1, \"percentage_annual\": 0.0, \"color\": \"black\"}, {\"year\": 2010, \"hour\": 2, \"percentage_annual\": 0.0, \"color\": \"black\"}, {\"year\": 2010, \"hour\": 3, \"percentage_annual\": 0.0, \"color\": \"black\"}, {\"year\": 2010, \"hour\": 4, \"percentage_annual\": 0.0, \"color\": \"black\"}, {\"year\": 2010, \"hour\": 5, \"percentage_annual\": 0.0, \"color\": \"black\"}, {\"year\": 2010, \"hour\": 6, \"percentage_annual\": 0.0, \"color\": \"black\"}, {\"year\": 2010, \"hour\": 7, \"percentage_annual\": 66.29279259026123, \"color\": \"white\"}, {\"year\": 2010, \"hour\": 8, \"percentage_annual\": 33.70720740973877, \"color\": \"white\"}, {\"year\": 2010, \"hour\": 9, \"percentage_annual\": 0.0, \"color\": \"black\"}, {\"year\": 2010, \"hour\": 10, \"percentage_annual\": 0.0, \"color\": \"black\"}, {\"year\": 2010, \"hour\": 11, \"percentage_annual\": 0.0, \"color\": \"black\"}, {\"year\": 2010, \"hour\": 12, \"percentage_annual\": 0.0, \"color\": \"black\"}, {\"year\": 2010, \"hour\": 13, \"percentage_annual\": 0.0, \"color\": \"black\"}, {\"year\": 2010, \"hour\": 14, \"percentage_annual\": 0.0, \"color\": \"black\"}, {\"year\": 2010, \"hour\": 15, \"percentage_annual\": 0.0, \"color\": \"black\"}, {\"year\": 2010, \"hour\": 16, \"percentage_annual\": 0.0, \"color\": \"black\"}, {\"year\": 2010, \"hour\": 17, \"percentage_annual\": 0.0, \"color\": \"black\"}, {\"year\": 2010, \"hour\": 18, \"percentage_annual\": 0.0, \"color\": \"black\"}, {\"year\": 2010, \"hour\": 19, \"percentage_annual\": 0.0, \"color\": \"black\"}, {\"year\": 2010, \"hour\": 20, \"percentage_annual\": 0.0, \"color\": \"black\"}, {\"year\": 2010, \"hour\": 21, \"percentage_annual\": 0.0, \"color\": \"black\"}, {\"year\": 2010, \"hour\": 22, \"percentage_annual\": 0.0, \"color\": \"black\"}, {\"year\": 2010, \"hour\": 23, \"percentage_annual\": 0.0, \"color\": \"black\"}, {\"year\": 2011, \"hour\": 0, \"percentage_annual\": 0.26101713170451496, \"color\": \"black\"}, {\"year\": 2011, \"hour\": 1, \"percentage_annual\": 0.04859762802990471, \"color\": \"black\"}, {\"year\": 2011, \"hour\": 2, \"percentage_annual\": 0.0673550636881281, \"color\": \"black\"}, {\"year\": 2011, \"hour\": 3, \"percentage_annual\": 0.07302652134900564, \"color\": \"black\"}, {\"year\": 2011, \"hour\": 4, \"percentage_annual\": 0.07635655153520896, \"color\": \"black\"}, {\"year\": 2011, \"hour\": 5, \"percentage_annual\": 0.07136150625590398, \"color\": \"black\"}, {\"year\": 2011, \"hour\": 6, \"percentage_annual\": 0.05929014683091694, \"color\": \"black\"}, {\"year\": 2011, \"hour\": 7, \"percentage_annual\": 66.1215736786089, \"color\": \"white\"}, {\"year\": 2011, \"hour\": 8, \"percentage_annual\": 32.471644662885176, \"color\": \"white\"}, {\"year\": 2011, \"hour\": 9, \"percentage_annual\": 0.038815664357932454, \"color\": \"black\"}, {\"year\": 2011, \"hour\": 10, \"percentage_annual\": 0.03400273010443547, \"color\": \"black\"}, {\"year\": 2011, \"hour\": 11, \"percentage_annual\": 0.031973492959717825, \"color\": \"black\"}, {\"year\": 2011, \"hour\": 12, \"percentage_annual\": 0.03171333435142069, \"color\": \"black\"}, {\"year\": 2011, \"hour\": 13, \"percentage_annual\": 0.035849856223345127, \"color\": \"black\"}, {\"year\": 2011, \"hour\": 14, \"percentage_annual\": 0.04258796417824091, \"color\": \"black\"}, {\"year\": 2011, \"hour\": 15, \"percentage_annual\": 0.04729683498841904, \"color\": \"black\"}, {\"year\": 2011, \"hour\": 16, \"percentage_annual\": 0.054269085690782246, \"color\": \"black\"}, {\"year\": 2011, \"hour\": 17, \"percentage_annual\": 0.057937322067771836, \"color\": \"black\"}, {\"year\": 2011, \"hour\": 18, \"percentage_annual\": 0.05705278279956158, \"color\": \"black\"}, {\"year\": 2011, \"hour\": 19, \"percentage_annual\": 0.06470144588349733, \"color\": \"black\"}, {\"year\": 2011, \"hour\": 20, \"percentage_annual\": 0.060981177784848316, \"color\": \"black\"}, {\"year\": 2011, \"hour\": 21, \"percentage_annual\": 0.06347870042450081, \"color\": \"black\"}, {\"year\": 2011, \"hour\": 22, \"percentage_annual\": 0.06595020720332358, \"color\": \"black\"}, {\"year\": 2011, \"hour\": 23, \"percentage_annual\": 0.06316651009454424, \"color\": \"black\"}, {\"year\": 2012, \"hour\": 0, \"percentage_annual\": 5.20746802873761, \"color\": \"black\"}, {\"year\": 2012, \"hour\": 1, \"percentage_annual\": 5.41993249749989, \"color\": \"black\"}, {\"year\": 2012, \"hour\": 2, \"percentage_annual\": 5.676984074331756, \"color\": \"black\"}, {\"year\": 2012, \"hour\": 3, \"percentage_annual\": 5.6820495024634425, \"color\": \"black\"}, {\"year\": 2012, \"hour\": 4, \"percentage_annual\": 5.220925434818808, \"color\": \"black\"}, {\"year\": 2012, \"hour\": 5, \"percentage_annual\": 4.504129552482655, \"color\": \"black\"}, {\"year\": 2012, \"hour\": 6, \"percentage_annual\": 3.76151510735589, \"color\": \"black\"}, {\"year\": 2012, \"hour\": 7, \"percentage_annual\": 3.1508097030165945, \"color\": \"black\"}, {\"year\": 2012, \"hour\": 8, \"percentage_annual\": 2.652866777161043, \"color\": \"black\"}, {\"year\": 2012, \"hour\": 9, \"percentage_annual\": 2.3774624737774315, \"color\": \"black\"}, {\"year\": 2012, \"hour\": 10, \"percentage_annual\": 2.3434787432521595, \"color\": \"black\"}, {\"year\": 2012, \"hour\": 11, \"percentage_annual\": 2.5229045240510497, \"color\": \"black\"}, {\"year\": 2012, \"hour\": 12, \"percentage_annual\": 2.866049478270353, \"color\": \"black\"}, {\"year\": 2012, \"hour\": 13, \"percentage_annual\": 3.239738208089678, \"color\": \"black\"}, {\"year\": 2012, \"hour\": 14, \"percentage_annual\": 3.63960461687313, \"color\": \"black\"}, {\"year\": 2012, \"hour\": 15, \"percentage_annual\": 3.9120981891661453, \"color\": \"black\"}, {\"year\": 2012, \"hour\": 16, \"percentage_annual\": 4.116851110623469, \"color\": \"black\"}, {\"year\": 2012, \"hour\": 17, \"percentage_annual\": 4.1718714885762305, \"color\": \"black\"}, {\"year\": 2012, \"hour\": 18, \"percentage_annual\": 4.256793013186934, \"color\": \"black\"}, {\"year\": 2012, \"hour\": 19, \"percentage_annual\": 4.576841127193846, \"color\": \"black\"}, {\"year\": 2012, \"hour\": 20, \"percentage_annual\": 4.957598775376047, \"color\": \"black\"}, {\"year\": 2012, \"hour\": 21, \"percentage_annual\": 5.215103972637616, \"color\": \"black\"}, {\"year\": 2012, \"hour\": 22, \"percentage_annual\": 5.28666259542331, \"color\": \"black\"}, {\"year\": 2012, \"hour\": 23, \"percentage_annual\": 5.240261005634911, \"color\": \"black\"}, {\"year\": 2013, \"hour\": 0, \"percentage_annual\": 5.175886961841138, \"color\": \"black\"}, {\"year\": 2013, \"hour\": 1, \"percentage_annual\": 5.333795161394236, \"color\": \"black\"}, {\"year\": 2013, \"hour\": 2, \"percentage_annual\": 5.608898610241994, \"color\": \"black\"}, {\"year\": 2013, \"hour\": 3, \"percentage_annual\": 5.5801778803495345, \"color\": \"black\"}, {\"year\": 2013, \"hour\": 4, \"percentage_annual\": 5.136832510143952, \"color\": \"black\"}, {\"year\": 2013, \"hour\": 5, \"percentage_annual\": 4.4864778147112645, \"color\": \"black\"}, {\"year\": 2013, \"hour\": 6, \"percentage_annual\": 3.758795623860181, \"color\": \"black\"}, {\"year\": 2013, \"hour\": 7, \"percentage_annual\": 3.1542569511820946, \"color\": \"black\"}, {\"year\": 2013, \"hour\": 8, \"percentage_annual\": 2.7238925216386223, \"color\": \"black\"}, {\"year\": 2013, \"hour\": 9, \"percentage_annual\": 2.5068365224347016, \"color\": \"black\"}, {\"year\": 2013, \"hour\": 10, \"percentage_annual\": 2.5023553868990094, \"color\": \"black\"}, {\"year\": 2013, \"hour\": 11, \"percentage_annual\": 2.7125062911315614, \"color\": \"black\"}, {\"year\": 2013, \"hour\": 12, \"percentage_annual\": 3.0123277473826024, \"color\": \"black\"}, {\"year\": 2013, \"hour\": 13, \"percentage_annual\": 3.40937868178707, \"color\": \"black\"}, {\"year\": 2013, \"hour\": 14, \"percentage_annual\": 3.7720157710455497, \"color\": \"black\"}, {\"year\": 2013, \"hour\": 15, \"percentage_annual\": 4.005321866729434, \"color\": \"black\"}, {\"year\": 2013, \"hour\": 16, \"percentage_annual\": 4.133105991453629, \"color\": \"black\"}, {\"year\": 2013, \"hour\": 17, \"percentage_annual\": 4.130522561002447, \"color\": \"black\"}, {\"year\": 2013, \"hour\": 18, \"percentage_annual\": 4.176848891006664, \"color\": \"black\"}, {\"year\": 2013, \"hour\": 19, \"percentage_annual\": 4.422402360681336, \"color\": \"black\"}, {\"year\": 2013, \"hour\": 20, \"percentage_annual\": 4.804399231222129, \"color\": \"black\"}, {\"year\": 2013, \"hour\": 21, \"percentage_annual\": 5.102259193982457, \"color\": \"black\"}, {\"year\": 2013, \"hour\": 22, \"percentage_annual\": 5.218513564285637, \"color\": \"black\"}, {\"year\": 2013, \"hour\": 23, \"percentage_annual\": 5.132191903592755, \"color\": \"black\"}, {\"year\": 2014, \"hour\": 0, \"percentage_annual\": 4.969064448022005, \"color\": \"black\"}, {\"year\": 2014, \"hour\": 1, \"percentage_annual\": 5.210728861303072, \"color\": \"black\"}, {\"year\": 2014, \"hour\": 2, \"percentage_annual\": 5.4518739512803105, \"color\": \"black\"}, {\"year\": 2014, \"hour\": 3, \"percentage_annual\": 5.449116165459986, \"color\": \"black\"}, {\"year\": 2014, \"hour\": 4, \"percentage_annual\": 5.0640289818218935, \"color\": \"black\"}, {\"year\": 2014, \"hour\": 5, \"percentage_annual\": 4.486756360367394, \"color\": \"black\"}, {\"year\": 2014, \"hour\": 6, \"percentage_annual\": 3.820822715559463, \"color\": \"black\"}, {\"year\": 2014, \"hour\": 7, \"percentage_annual\": 3.1983152435715834, \"color\": \"black\"}, {\"year\": 2014, \"hour\": 8, \"percentage_annual\": 2.772488042133237, \"color\": \"black\"}, {\"year\": 2014, \"hour\": 9, \"percentage_annual\": 2.52774350442947, \"color\": \"black\"}, {\"year\": 2014, \"hour\": 10, \"percentage_annual\": 2.570596630845297, \"color\": \"black\"}, {\"year\": 2014, \"hour\": 11, \"percentage_annual\": 2.8076587651924454, \"color\": \"black\"}, {\"year\": 2014, \"hour\": 12, \"percentage_annual\": 3.14998236091537, \"color\": \"black\"}, {\"year\": 2014, \"hour\": 13, \"percentage_annual\": 3.5551798918016755, \"color\": \"black\"}, {\"year\": 2014, \"hour\": 14, \"percentage_annual\": 3.895318748108499, \"color\": \"black\"}, {\"year\": 2014, \"hour\": 15, \"percentage_annual\": 4.142874794732987, \"color\": \"black\"}, {\"year\": 2014, \"hour\": 16, \"percentage_annual\": 4.217496181182947, \"color\": \"black\"}, {\"year\": 2014, \"hour\": 17, \"percentage_annual\": 4.183202935430206, \"color\": \"black\"}, {\"year\": 2014, \"hour\": 18, \"percentage_annual\": 4.215078641665129, \"color\": \"black\"}, {\"year\": 2014, \"hour\": 19, \"percentage_annual\": 4.423595902001902, \"color\": \"black\"}, {\"year\": 2014, \"hour\": 20, \"percentage_annual\": 4.7891995078964005, \"color\": \"black\"}, {\"year\": 2014, \"hour\": 21, \"percentage_annual\": 5.016215422469507, \"color\": \"black\"}, {\"year\": 2014, \"hour\": 22, \"percentage_annual\": 5.100220443788625, \"color\": \"black\"}, {\"year\": 2014, \"hour\": 23, \"percentage_annual\": 4.9824415000205935, \"color\": \"black\"}, {\"year\": 2015, \"hour\": 0, \"percentage_annual\": 4.8376124441089665, \"color\": \"black\"}, {\"year\": 2015, \"hour\": 1, \"percentage_annual\": 5.04762188727597, \"color\": \"black\"}, {\"year\": 2015, \"hour\": 2, \"percentage_annual\": 5.3171660455571015, \"color\": \"black\"}, {\"year\": 2015, \"hour\": 3, \"percentage_annual\": 5.386646098583211, \"color\": \"black\"}, {\"year\": 2015, \"hour\": 4, \"percentage_annual\": 5.064060138104846, \"color\": \"black\"}, {\"year\": 2015, \"hour\": 5, \"percentage_annual\": 4.527345363726704, \"color\": \"black\"}, {\"year\": 2015, \"hour\": 6, \"percentage_annual\": 3.8842331281363616, \"color\": \"black\"}, {\"year\": 2015, \"hour\": 7, \"percentage_annual\": 3.307011208219282, \"color\": \"black\"}, {\"year\": 2015, \"hour\": 8, \"percentage_annual\": 2.866925101601337, \"color\": \"black\"}, {\"year\": 2015, \"hour\": 9, \"percentage_annual\": 2.667116005010724, \"color\": \"black\"}, {\"year\": 2015, \"hour\": 10, \"percentage_annual\": 2.6510504591529083, \"color\": \"black\"}, {\"year\": 2015, \"hour\": 11, \"percentage_annual\": 2.8920140309690368, \"color\": \"black\"}, {\"year\": 2015, \"hour\": 12, \"percentage_annual\": 3.264346297058416, \"color\": \"black\"}, {\"year\": 2015, \"hour\": 13, \"percentage_annual\": 3.6593939503313737, \"color\": \"black\"}, {\"year\": 2015, \"hour\": 14, \"percentage_annual\": 4.0469875041831225, \"color\": \"black\"}, {\"year\": 2015, \"hour\": 15, \"percentage_annual\": 4.232790740282306, \"color\": \"black\"}, {\"year\": 2015, \"hour\": 16, \"percentage_annual\": 4.270120085541676, \"color\": \"black\"}, {\"year\": 2015, \"hour\": 17, \"percentage_annual\": 4.192793612072189, \"color\": \"black\"}, {\"year\": 2015, \"hour\": 18, \"percentage_annual\": 4.186908796739655, \"color\": \"black\"}, {\"year\": 2015, \"hour\": 19, \"percentage_annual\": 4.3253588854630545, \"color\": \"black\"}, {\"year\": 2015, \"hour\": 20, \"percentage_annual\": 4.628152250373, \"color\": \"black\"}, {\"year\": 2015, \"hour\": 21, \"percentage_annual\": 4.91511546203843, \"color\": \"black\"}, {\"year\": 2015, \"hour\": 22, \"percentage_annual\": 4.956014928599536, \"color\": \"black\"}, {\"year\": 2015, \"hour\": 23, \"percentage_annual\": 4.873215576870792, \"color\": \"black\"}, {\"year\": 2016, \"hour\": 0, \"percentage_annual\": 4.750424701405452, \"color\": \"black\"}, {\"year\": 2016, \"hour\": 1, \"percentage_annual\": 5.002794842889158, \"color\": \"black\"}, {\"year\": 2016, \"hour\": 2, \"percentage_annual\": 5.252453569629652, \"color\": \"black\"}, {\"year\": 2016, \"hour\": 3, \"percentage_annual\": 5.307933286683094, \"color\": \"black\"}, {\"year\": 2016, \"hour\": 4, \"percentage_annual\": 5.015074423120442, \"color\": \"black\"}, {\"year\": 2016, \"hour\": 5, \"percentage_annual\": 4.464891871908596, \"color\": \"black\"}, {\"year\": 2016, \"hour\": 6, \"percentage_annual\": 3.8772187976127035, \"color\": \"black\"}, {\"year\": 2016, \"hour\": 7, \"percentage_annual\": 3.3025813711207213, \"color\": \"black\"}, {\"year\": 2016, \"hour\": 8, \"percentage_annual\": 2.8667735937403864, \"color\": \"black\"}, {\"year\": 2016, \"hour\": 9, \"percentage_annual\": 2.674888858066824, \"color\": \"black\"}, {\"year\": 2016, \"hour\": 10, \"percentage_annual\": 2.707790833123894, \"color\": \"black\"}, {\"year\": 2016, \"hour\": 11, \"percentage_annual\": 2.9807312268421717, \"color\": \"black\"}, {\"year\": 2016, \"hour\": 12, \"percentage_annual\": 3.3723220868716424, \"color\": \"black\"}, {\"year\": 2016, \"hour\": 13, \"percentage_annual\": 3.766546147757503, \"color\": \"black\"}, {\"year\": 2016, \"hour\": 14, \"percentage_annual\": 4.146274568285416, \"color\": \"black\"}, {\"year\": 2016, \"hour\": 15, \"percentage_annual\": 4.3089333815826105, \"color\": \"black\"}, {\"year\": 2016, \"hour\": 16, \"percentage_annual\": 4.337298951203921, \"color\": \"black\"}, {\"year\": 2016, \"hour\": 17, \"percentage_annual\": 4.239818376926277, \"color\": \"black\"}, {\"year\": 2016, \"hour\": 18, \"percentage_annual\": 4.1904654143406725, \"color\": \"black\"}, {\"year\": 2016, \"hour\": 19, \"percentage_annual\": 4.339775724286663, \"color\": \"black\"}, {\"year\": 2016, \"hour\": 20, \"percentage_annual\": 4.6227535668139526, \"color\": \"black\"}, {\"year\": 2016, \"hour\": 21, \"percentage_annual\": 4.830385365034638, \"color\": \"black\"}, {\"year\": 2016, \"hour\": 22, \"percentage_annual\": 4.864903760419393, \"color\": \"black\"}, {\"year\": 2016, \"hour\": 23, \"percentage_annual\": 4.776965280334213, \"color\": \"black\"}, {\"year\": 2017, \"hour\": 0, \"percentage_annual\": 6.003480278422274, \"color\": \"black\"}, {\"year\": 2017, \"hour\": 1, \"percentage_annual\": 6.119489559164734, \"color\": \"black\"}, {\"year\": 2017, \"hour\": 2, \"percentage_annual\": 4.524361948955916, \"color\": \"black\"}, {\"year\": 2017, \"hour\": 3, \"percentage_annual\": 5.539443155452436, \"color\": \"black\"}, {\"year\": 2017, \"hour\": 4, \"percentage_annual\": 5.539443155452436, \"color\": \"black\"}, {\"year\": 2017, \"hour\": 5, \"percentage_annual\": 4.901392111368909, \"color\": \"black\"}, {\"year\": 2017, \"hour\": 6, \"percentage_annual\": 4.379350348027843, \"color\": \"black\"}, {\"year\": 2017, \"hour\": 7, \"percentage_annual\": 3.944315545243619, \"color\": \"black\"}, {\"year\": 2017, \"hour\": 8, \"percentage_annual\": 3.5382830626450117, \"color\": \"black\"}, {\"year\": 2017, \"hour\": 9, \"percentage_annual\": 2.436194895591647, \"color\": \"black\"}, {\"year\": 2017, \"hour\": 10, \"percentage_annual\": 2.6102088167053363, \"color\": \"black\"}, {\"year\": 2017, \"hour\": 11, \"percentage_annual\": 2.697215777262181, \"color\": \"black\"}, {\"year\": 2017, \"hour\": 12, \"percentage_annual\": 3.0162412993039442, \"color\": \"black\"}, {\"year\": 2017, \"hour\": 13, \"percentage_annual\": 2.9582366589327145, \"color\": \"black\"}, {\"year\": 2017, \"hour\": 14, \"percentage_annual\": 3.567285382830626, \"color\": \"black\"}, {\"year\": 2017, \"hour\": 15, \"percentage_annual\": 4.002320185614849, \"color\": \"black\"}, {\"year\": 2017, \"hour\": 16, \"percentage_annual\": 4.78538283062645, \"color\": \"black\"}, {\"year\": 2017, \"hour\": 17, \"percentage_annual\": 3.944315545243619, \"color\": \"black\"}, {\"year\": 2017, \"hour\": 18, \"percentage_annual\": 4.611368909512762, \"color\": \"black\"}, {\"year\": 2017, \"hour\": 19, \"percentage_annual\": 3.7703016241299308, \"color\": \"black\"}, {\"year\": 2017, \"hour\": 20, \"percentage_annual\": 4.002320185614849, \"color\": \"black\"}, {\"year\": 2017, \"hour\": 21, \"percentage_annual\": 4.669373549883991, \"color\": \"black\"}, {\"year\": 2017, \"hour\": 22, \"percentage_annual\": 3.9733178654292343, \"color\": \"black\"}, {\"year\": 2017, \"hour\": 23, \"percentage_annual\": 4.466357308584687, \"color\": \"black\"}]}}, {\"mode\": \"vega-lite\"});\n</script>",
      "text/plain": [
       "alt.LayerChart(...)"
      ]
     },
     "metadata": {},
     "execution_count": 53
    }
   ],
   "source": [
    "\n",
    "color = alt.Chart(hour_year_count).mark_rect().encode(\n",
    "    x = alt.X('hour:O', title = \"Hour (UTC)\", axis= alt.Axis(labelAngle=0)),\n",
    "    y = alt.Y('year:O', title = \"Year\"),\n",
    "    color = alt.condition(alt.datum.percentage_annual == 0, alt.value('lightgrey'), alt.Color('percentage_annual', title = None, legend=None))\n",
    ")\n",
    "\n",
    "text = alt.Chart(hour_year_count).mark_text().encode(\n",
    "    x = alt.X('hour:O', title = \"Hour (UTC)\"),\n",
    "    y = alt.Y('year:O', title = \"Year\"),\n",
    "    color= alt.Color('color', scale=None),\n",
    "    # color = alt.Color('percentage_annual', scale=alt.Scale(domain = [15, 8], scheme='greys')),\n",
    "    text = alt.Text('percentage_annual', format=\".1f\")\n",
    ")\n",
    "\n",
    "annual_chart = alt.layer(\n",
    "    color, \n",
    "    text\n",
    ").resolve_scale(\n",
    "    color='independent'\n",
    ").properties(\n",
    "    width = 800,\n",
    "    height = 400,\n",
    "    title = \"Hourly Review Distibution by Year\"\n",
    ")\n",
    "\n",
    "altair_saver.save(annual_chart, 'annual.png', scale_factor = 5)\n",
    "annual_chart"
   ]
  },
  {
   "source": [
    "Now we will look at the distribution by month!"
   ],
   "cell_type": "markdown",
   "metadata": {}
  },
  {
   "cell_type": "code",
   "execution_count": 61,
   "metadata": {},
   "outputs": [
    {
     "output_type": "execute_result",
     "data": {
      "text/plain": [
       "   month  hour  percentage_annual  color\n",
       "0      1     0           5.353474  black\n",
       "1      1     1           5.494555  black"
      ],
      "text/html": "<div>\n<style scoped>\n    .dataframe tbody tr th:only-of-type {\n        vertical-align: middle;\n    }\n\n    .dataframe tbody tr th {\n        vertical-align: top;\n    }\n\n    .dataframe thead th {\n        text-align: right;\n    }\n</style>\n<table border=\"1\" class=\"dataframe\">\n  <thead>\n    <tr style=\"text-align: right;\">\n      <th></th>\n      <th>month</th>\n      <th>hour</th>\n      <th>percentage_annual</th>\n      <th>color</th>\n    </tr>\n  </thead>\n  <tbody>\n    <tr>\n      <th>0</th>\n      <td>1</td>\n      <td>0</td>\n      <td>5.353474</td>\n      <td>black</td>\n    </tr>\n    <tr>\n      <th>1</th>\n      <td>1</td>\n      <td>1</td>\n      <td>5.494555</td>\n      <td>black</td>\n    </tr>\n  </tbody>\n</table>\n</div>"
     },
     "metadata": {},
     "execution_count": 61
    }
   ],
   "source": [
    "hour_month_count = review_big[review_big['year'] == 2011].groupby(['hour', 'month']).count()\n",
    "hour_month_count = hour_month_count.reset_index()\n",
    "count = hour_month_count.groupby('month').sum()['review_date'].rename('month_sum')\n",
    "count\n",
    "hour_month_count = hour_month_count.join(count, on='month')\n",
    "hour_month_count['percentage_annual'] = hour_month_count['review_date'] / hour_month_count['month_sum'] * 100\n",
    "hour_month_count = hour_month_count.set_index(['month', 'hour'])['percentage_annual'].unstack(fill_value=0).stack().reset_index(name='percentage_annual')\n",
    "hour_month_count['color'] = hour_month_count['percentage_annual'].apply(color_opposite)\n",
    "\n",
    "hour_month_count.head(2)"
   ]
  },
  {
   "cell_type": "code",
   "execution_count": 63,
   "metadata": {},
   "outputs": [
    {
     "output_type": "execute_result",
     "data": {
      "text/html": "\n<div id=\"altair-viz-b62f0b951e584ce0975296d94a3318a5\"></div>\n<script type=\"text/javascript\">\n  (function(spec, embedOpt){\n    let outputDiv = document.currentScript.previousElementSibling;\n    if (outputDiv.id !== \"altair-viz-b62f0b951e584ce0975296d94a3318a5\") {\n      outputDiv = document.getElementById(\"altair-viz-b62f0b951e584ce0975296d94a3318a5\");\n    }\n    const paths = {\n      \"vega\": \"https://cdn.jsdelivr.net/npm//vega@5?noext\",\n      \"vega-lib\": \"https://cdn.jsdelivr.net/npm//vega-lib?noext\",\n      \"vega-lite\": \"https://cdn.jsdelivr.net/npm//vega-lite@4.8.1?noext\",\n      \"vega-embed\": \"https://cdn.jsdelivr.net/npm//vega-embed@6?noext\",\n    };\n\n    function loadScript(lib) {\n      return new Promise(function(resolve, reject) {\n        var s = document.createElement('script');\n        s.src = paths[lib];\n        s.async = true;\n        s.onload = () => resolve(paths[lib]);\n        s.onerror = () => reject(`Error loading script: ${paths[lib]}`);\n        document.getElementsByTagName(\"head\")[0].appendChild(s);\n      });\n    }\n\n    function showError(err) {\n      outputDiv.innerHTML = `<div class=\"error\" style=\"color:red;\">${err}</div>`;\n      throw err;\n    }\n\n    function displayChart(vegaEmbed) {\n      vegaEmbed(outputDiv, spec, embedOpt)\n        .catch(err => showError(`Javascript Error: ${err.message}<br>This usually means there's a typo in your chart specification. See the javascript console for the full traceback.`));\n    }\n\n    if(typeof define === \"function\" && define.amd) {\n      requirejs.config({paths});\n      require([\"vega-embed\"], displayChart, err => showError(`Error loading script: ${err.message}`));\n    } else if (typeof vegaEmbed === \"function\") {\n      displayChart(vegaEmbed);\n    } else {\n      loadScript(\"vega\")\n        .then(() => loadScript(\"vega-lite\"))\n        .then(() => loadScript(\"vega-embed\"))\n        .catch(showError)\n        .then(() => displayChart(vegaEmbed));\n    }\n  })({\"config\": {\"view\": {\"continuousWidth\": 400, \"continuousHeight\": 300}}, \"layer\": [{\"mark\": \"rect\", \"encoding\": {\"color\": {\"type\": \"quantitative\", \"condition\": {\"value\": \"lightgrey\", \"test\": \"(datum.percentage_annual === 0)\"}, \"field\": \"percentage_annual\", \"legend\": null, \"title\": null}, \"x\": {\"type\": \"ordinal\", \"axis\": {\"labelAngle\": 0}, \"field\": \"hour\", \"title\": \"Hour (UTC)\"}, \"y\": {\"type\": \"ordinal\", \"field\": \"month\", \"title\": \"Month\"}}}, {\"mark\": \"text\", \"encoding\": {\"color\": {\"type\": \"nominal\", \"field\": \"color\", \"scale\": null}, \"text\": {\"type\": \"quantitative\", \"field\": \"percentage_annual\", \"format\": \".1f\"}, \"x\": {\"type\": \"ordinal\", \"field\": \"hour\", \"title\": \"Hour (UTC)\"}, \"y\": {\"type\": \"ordinal\", \"field\": \"month\", \"title\": \"Month\"}}}], \"data\": {\"name\": \"data-8e13a011abc373645ee75c57316b59d2\"}, \"height\": 300, \"resolve\": {\"scale\": {\"color\": \"independent\"}}, \"title\": \"Hourly Review Distibution by Month in 2012\", \"width\": 800, \"$schema\": \"https://vega.github.io/schema/vega-lite/v4.8.1.json\", \"datasets\": {\"data-8e13a011abc373645ee75c57316b59d2\": [{\"month\": 1, \"hour\": 0, \"percentage_annual\": 5.353474320241692, \"color\": \"black\"}, {\"month\": 1, \"hour\": 1, \"percentage_annual\": 5.494554907609078, \"color\": \"black\"}, {\"month\": 1, \"hour\": 2, \"percentage_annual\": 5.806506007166444, \"color\": \"black\"}, {\"month\": 1, \"hour\": 3, \"percentage_annual\": 6.027401110096255, \"color\": \"black\"}, {\"month\": 1, \"hour\": 4, \"percentage_annual\": 5.667673716012085, \"color\": \"black\"}, {\"month\": 1, \"hour\": 5, \"percentage_annual\": 4.932199817325933, \"color\": \"black\"}, {\"month\": 1, \"hour\": 6, \"percentage_annual\": 4.153446216539029, \"color\": \"black\"}, {\"month\": 1, \"hour\": 7, \"percentage_annual\": 3.342092320663247, \"color\": \"black\"}, {\"month\": 1, \"hour\": 8, \"percentage_annual\": 2.742078268811916, \"color\": \"black\"}, {\"month\": 1, \"hour\": 9, \"percentage_annual\": 2.3134968032038223, \"color\": \"black\"}, {\"month\": 1, \"hour\": 10, \"percentage_annual\": 2.180566289608656, \"color\": \"black\"}, {\"month\": 1, \"hour\": 11, \"percentage_annual\": 2.379540504461463, \"color\": \"black\"}, {\"month\": 1, \"hour\": 12, \"percentage_annual\": 2.545071313145507, \"color\": \"black\"}, {\"month\": 1, \"hour\": 13, \"percentage_annual\": 2.8055926368299025, \"color\": \"black\"}, {\"month\": 1, \"hour\": 14, \"percentage_annual\": 3.081570996978852, \"color\": \"black\"}, {\"month\": 1, \"hour\": 15, \"percentage_annual\": 3.395770392749245, \"color\": \"black\"}, {\"month\": 1, \"hour\": 16, \"percentage_annual\": 3.840933042928406, \"color\": \"black\"}, {\"month\": 1, \"hour\": 17, \"percentage_annual\": 4.00168622215977, \"color\": \"black\"}, {\"month\": 1, \"hour\": 18, \"percentage_annual\": 4.1298391063022555, \"color\": \"black\"}, {\"month\": 1, \"hour\": 19, \"percentage_annual\": 4.444600576125905, \"color\": \"black\"}, {\"month\": 1, \"hour\": 20, \"percentage_annual\": 4.951310335136654, \"color\": \"black\"}, {\"month\": 1, \"hour\": 21, \"percentage_annual\": 5.353474320241692, \"color\": \"black\"}, {\"month\": 1, \"hour\": 22, \"percentage_annual\": 5.49736527787536, \"color\": \"black\"}, {\"month\": 1, \"hour\": 23, \"percentage_annual\": 5.559755497786833, \"color\": \"black\"}, {\"month\": 2, \"hour\": 0, \"percentage_annual\": 5.315983628628359, \"color\": \"black\"}, {\"month\": 2, \"hour\": 1, \"percentage_annual\": 5.374885561958102, \"color\": \"black\"}, {\"month\": 2, \"hour\": 2, \"percentage_annual\": 5.717526522699122, \"color\": \"black\"}, {\"month\": 2, \"hour\": 3, \"percentage_annual\": 6.324721309709731, \"color\": \"black\"}, {\"month\": 2, \"hour\": 4, \"percentage_annual\": 6.010016694490818, \"color\": \"black\"}, {\"month\": 2, \"hour\": 5, \"percentage_annual\": 4.7929344606602395, \"color\": \"black\"}, {\"month\": 2, \"hour\": 6, \"percentage_annual\": 4.0857746782271525, \"color\": \"black\"}, {\"month\": 2, \"hour\": 7, \"percentage_annual\": 3.24903064246863, \"color\": \"black\"}, {\"month\": 2, \"hour\": 8, \"percentage_annual\": 2.6485675049814206, \"color\": \"black\"}, {\"month\": 2, \"hour\": 9, \"percentage_annual\": 2.259478162528946, \"color\": \"black\"}, {\"month\": 2, \"hour\": 10, \"percentage_annual\": 2.2793365286229736, \"color\": \"black\"}, {\"month\": 2, \"hour\": 11, \"percentage_annual\": 2.337228714524207, \"color\": \"black\"}, {\"month\": 2, \"hour\": 12, \"percentage_annual\": 2.6855915773601162, \"color\": \"black\"}, {\"month\": 2, \"hour\": 13, \"percentage_annual\": 2.9060530992514404, \"color\": \"black\"}, {\"month\": 2, \"hour\": 14, \"percentage_annual\": 3.25441596208735, \"color\": \"black\"}, {\"month\": 2, \"hour\": 15, \"percentage_annual\": 3.5640718401637135, \"color\": \"black\"}, {\"month\": 2, \"hour\": 16, \"percentage_annual\": 3.794294253863967, \"color\": \"black\"}, {\"month\": 2, \"hour\": 17, \"percentage_annual\": 3.9070493833809032, \"color\": \"black\"}, {\"month\": 2, \"hour\": 18, \"percentage_annual\": 4.01677527061231, \"color\": \"black\"}, {\"month\": 2, \"hour\": 19, \"percentage_annual\": 4.203578544886639, \"color\": \"black\"}, {\"month\": 2, \"hour\": 20, \"percentage_annual\": 4.815485486563627, \"color\": \"black\"}, {\"month\": 2, \"hour\": 21, \"percentage_annual\": 5.332139587484517, \"color\": \"black\"}, {\"month\": 2, \"hour\": 22, \"percentage_annual\": 5.619244439657494, \"color\": \"black\"}, {\"month\": 2, \"hour\": 23, \"percentage_annual\": 5.505816145188217, \"color\": \"black\"}, {\"month\": 3, \"hour\": 0, \"percentage_annual\": 5.476010062740581, \"color\": \"black\"}, {\"month\": 3, \"hour\": 1, \"percentage_annual\": 5.6590791986178886, \"color\": \"black\"}, {\"month\": 3, \"hour\": 2, \"percentage_annual\": 6.0615888218713065, \"color\": \"black\"}, {\"month\": 3, \"hour\": 3, \"percentage_annual\": 5.905192010426454, \"color\": \"black\"}, {\"month\": 3, \"hour\": 4, \"percentage_annual\": 5.180795926408632, \"color\": \"black\"}, {\"month\": 3, \"hour\": 5, \"percentage_annual\": 4.450641045070166, \"color\": \"black\"}, {\"month\": 3, \"hour\": 6, \"percentage_annual\": 3.591064771315127, \"color\": \"black\"}, {\"month\": 3, \"hour\": 7, \"percentage_annual\": 3.005789106780226, \"color\": \"black\"}, {\"month\": 3, \"hour\": 8, \"percentage_annual\": 2.4781014154517624, \"color\": \"black\"}, {\"month\": 3, \"hour\": 9, \"percentage_annual\": 2.212893644106326, \"color\": \"black\"}, {\"month\": 3, \"hour\": 10, \"percentage_annual\": 2.3311005364774346, \"color\": \"black\"}, {\"month\": 3, \"hour\": 11, \"percentage_annual\": 2.4535507531900707, \"color\": \"black\"}, {\"month\": 3, \"hour\": 12, \"percentage_annual\": 2.7299730245809717, \"color\": \"black\"}, {\"month\": 3, \"hour\": 13, \"percentage_annual\": 3.1294517018761554, \"color\": \"black\"}, {\"month\": 3, \"hour\": 14, \"percentage_annual\": 3.417694662504168, \"color\": \"black\"}, {\"month\": 3, \"hour\": 15, \"percentage_annual\": 3.7150304610068803, \"color\": \"black\"}, {\"month\": 3, \"hour\": 16, \"percentage_annual\": 4.010244597338829, \"color\": \"black\"}, {\"month\": 3, \"hour\": 17, \"percentage_annual\": 4.091473949019489, \"color\": \"black\"}, {\"month\": 3, \"hour\": 18, \"percentage_annual\": 4.0754099354408515, \"color\": \"black\"}, {\"month\": 3, \"hour\": 19, \"percentage_annual\": 4.543387991392113, \"color\": \"black\"}, {\"month\": 3, \"hour\": 20, \"percentage_annual\": 5.058345709695996, \"color\": \"black\"}, {\"month\": 3, \"hour\": 21, \"percentage_annual\": 5.321734913466493, \"color\": \"black\"}, {\"month\": 3, \"hour\": 22, \"percentage_annual\": 5.524808292668141, \"color\": \"black\"}, {\"month\": 3, \"hour\": 23, \"percentage_annual\": 5.576637468553935, \"color\": \"black\"}, {\"month\": 4, \"hour\": 0, \"percentage_annual\": 5.311423345762856, \"color\": \"black\"}, {\"month\": 4, \"hour\": 1, \"percentage_annual\": 5.428251407182657, \"color\": \"black\"}, {\"month\": 4, \"hour\": 2, \"percentage_annual\": 5.822404332846549, \"color\": \"black\"}, {\"month\": 4, \"hour\": 3, \"percentage_annual\": 5.742155931434405, \"color\": \"black\"}, {\"month\": 4, \"hour\": 4, \"percentage_annual\": 5.046858828033064, \"color\": \"black\"}, {\"month\": 4, \"hour\": 5, \"percentage_annual\": 4.189079979016319, \"color\": \"black\"}, {\"month\": 4, \"hour\": 6, \"percentage_annual\": 3.4742170109597197, \"color\": \"black\"}, {\"month\": 4, \"hour\": 7, \"percentage_annual\": 2.877316357346415, \"color\": \"black\"}, {\"month\": 4, \"hour\": 8, \"percentage_annual\": 2.5027292963377805, \"color\": \"black\"}, {\"month\": 4, \"hour\": 9, \"percentage_annual\": 2.3657682437509746, \"color\": \"black\"}, {\"month\": 4, \"hour\": 10, \"percentage_annual\": 2.3773943372417805, \"color\": \"black\"}, {\"month\": 4, \"hour\": 11, \"percentage_annual\": 2.6640767889296906, \"color\": \"black\"}, {\"month\": 4, \"hour\": 12, \"percentage_annual\": 3.013710283421474, \"color\": \"black\"}, {\"month\": 4, \"hour\": 13, \"percentage_annual\": 3.414668727226326, \"color\": \"black\"}, {\"month\": 4, \"hour\": 14, \"percentage_annual\": 3.8249847584749967, \"color\": \"black\"}, {\"month\": 4, \"hour\": 15, \"percentage_annual\": 4.0271653599126624, \"color\": \"black\"}, {\"month\": 4, \"hour\": 16, \"percentage_annual\": 4.139739972494364, \"color\": \"black\"}, {\"month\": 4, \"hour\": 17, \"percentage_annual\": 4.066013525967305, \"color\": \"black\"}, {\"month\": 4, \"hour\": 18, \"percentage_annual\": 4.04928329387078, \"color\": \"black\"}, {\"month\": 4, \"hour\": 19, \"percentage_annual\": 4.578412329330366, \"color\": \"black\"}, {\"month\": 4, \"hour\": 20, \"percentage_annual\": 5.032397101983524, \"color\": \"black\"}, {\"month\": 4, \"hour\": 21, \"percentage_annual\": 5.347152316002892, \"color\": \"black\"}, {\"month\": 4, \"hour\": 22, \"percentage_annual\": 5.36586749089053, \"color\": \"black\"}, {\"month\": 4, \"hour\": 23, \"percentage_annual\": 5.3389289815825665, \"color\": \"black\"}, {\"month\": 5, \"hour\": 0, \"percentage_annual\": 5.229246559891721, \"color\": \"black\"}, {\"month\": 5, \"hour\": 1, \"percentage_annual\": 5.5631062485901195, \"color\": \"black\"}, {\"month\": 5, \"hour\": 2, \"percentage_annual\": 5.822806226032032, \"color\": \"black\"}, {\"month\": 5, \"hour\": 3, \"percentage_annual\": 5.584254455222197, \"color\": \"black\"}, {\"month\": 5, \"hour\": 4, \"percentage_annual\": 4.98900293255132, \"color\": \"black\"}, {\"month\": 5, \"hour\": 5, \"percentage_annual\": 4.191856530566207, \"color\": \"black\"}, {\"month\": 5, \"hour\": 6, \"percentage_annual\": 3.473381457252425, \"color\": \"black\"}, {\"month\": 5, \"hour\": 7, \"percentage_annual\": 2.9252199413489737, \"color\": \"black\"}, {\"month\": 5, \"hour\": 8, \"percentage_annual\": 2.5358109632303183, \"color\": \"black\"}, {\"month\": 5, \"hour\": 9, \"percentage_annual\": 2.3091021881344465, \"color\": \"black\"}, {\"month\": 5, \"hour\": 10, \"percentage_annual\": 2.397924655989172, \"color\": \"black\"}, {\"month\": 5, \"hour\": 11, \"percentage_annual\": 2.686386194450711, \"color\": \"black\"}, {\"month\": 5, \"hour\": 12, \"percentage_annual\": 2.932551319648094, \"color\": \"black\"}, {\"month\": 5, \"hour\": 13, \"percentage_annual\": 3.327035867358448, \"color\": \"black\"}, {\"month\": 5, \"hour\": 14, \"percentage_annual\": 3.8255695916986237, \"color\": \"black\"}, {\"month\": 5, \"hour\": 15, \"percentage_annual\": 4.0604556733588995, \"color\": \"black\"}, {\"month\": 5, \"hour\": 16, \"percentage_annual\": 4.170144371757275, \"color\": \"black\"}, {\"month\": 5, \"hour\": 17, \"percentage_annual\": 4.048894653733363, \"color\": \"black\"}, {\"month\": 5, \"hour\": 18, \"percentage_annual\": 4.203981502368599, \"color\": \"black\"}, {\"month\": 5, \"hour\": 19, \"percentage_annual\": 4.663602526505752, \"color\": \"black\"}, {\"month\": 5, \"hour\": 20, \"percentage_annual\": 5.054421385066546, \"color\": \"black\"}, {\"month\": 5, \"hour\": 21, \"percentage_annual\": 5.464414617640425, \"color\": \"black\"}, {\"month\": 5, \"hour\": 22, \"percentage_annual\": 5.3375253778479586, \"color\": \"black\"}, {\"month\": 5, \"hour\": 23, \"percentage_annual\": 5.203304759756373, \"color\": \"black\"}, {\"month\": 6, \"hour\": 0, \"percentage_annual\": 4.831908193013075, \"color\": \"black\"}, {\"month\": 6, \"hour\": 1, \"percentage_annual\": 5.010091358482104, \"color\": \"black\"}, {\"month\": 6, \"hour\": 2, \"percentage_annual\": 5.3554888215048315, \"color\": \"black\"}, {\"month\": 6, \"hour\": 3, \"percentage_annual\": 5.549028402055322, \"color\": \"black\"}, {\"month\": 6, \"hour\": 4, \"percentage_annual\": 5.110517438062459, \"color\": \"black\"}, {\"month\": 6, \"hour\": 5, \"percentage_annual\": 4.566217836841746, \"color\": \"black\"}, {\"month\": 6, \"hour\": 6, \"percentage_annual\": 3.9295359925119198, \"color\": \"black\"}, {\"month\": 6, \"hour\": 7, \"percentage_annual\": 3.292610395561752, \"color\": \"black\"}, {\"month\": 6, \"hour\": 8, \"percentage_annual\": 2.6915164338016635, \"color\": \"black\"}, {\"month\": 6, \"hour\": 9, \"percentage_annual\": 2.4146134570946636, \"color\": \"black\"}, {\"month\": 6, \"hour\": 10, \"percentage_annual\": 2.299805972914209, \"color\": \"black\"}, {\"month\": 6, \"hour\": 11, \"percentage_annual\": 2.5464836246989657, \"color\": \"black\"}, {\"month\": 6, \"hour\": 12, \"percentage_annual\": 2.910406286867584, \"color\": \"black\"}, {\"month\": 6, \"hour\": 13, \"percentage_annual\": 3.273841443795521, \"color\": \"black\"}, {\"month\": 6, \"hour\": 14, \"percentage_annual\": 3.8349599758197397, \"color\": \"black\"}, {\"month\": 6, \"hour\": 15, \"percentage_annual\": 4.130631904292971, \"color\": \"black\"}, {\"month\": 6, \"hour\": 16, \"percentage_annual\": 4.356834335969112, \"color\": \"black\"}, {\"month\": 6, \"hour\": 17, \"percentage_annual\": 4.504792176515897, \"color\": \"black\"}, {\"month\": 6, \"hour\": 18, \"percentage_annual\": 4.590836851496154, \"color\": \"black\"}, {\"month\": 6, \"hour\": 19, \"percentage_annual\": 4.817283035792634, \"color\": \"black\"}, {\"month\": 6, \"hour\": 20, \"percentage_annual\": 5.069079492604545, \"color\": \"black\"}, {\"month\": 6, \"hour\": 21, \"percentage_annual\": 5.104423622553942, \"color\": \"black\"}, {\"month\": 6, \"hour\": 22, \"percentage_annual\": 4.995222448641322, \"color\": \"black\"}, {\"month\": 6, \"hour\": 23, \"percentage_annual\": 4.813870499107866, \"color\": \"black\"}, {\"month\": 7, \"hour\": 0, \"percentage_annual\": 4.779366448909158, \"color\": \"black\"}, {\"month\": 7, \"hour\": 1, \"percentage_annual\": 4.963521215216026, \"color\": \"black\"}, {\"month\": 7, \"hour\": 2, \"percentage_annual\": 5.2081315701431565, \"color\": \"black\"}, {\"month\": 7, \"hour\": 3, \"percentage_annual\": 5.384949493170866, \"color\": \"black\"}, {\"month\": 7, \"hour\": 4, \"percentage_annual\": 5.121116608852342, \"color\": \"black\"}, {\"month\": 7, \"hour\": 5, \"percentage_annual\": 4.532848514729446, \"color\": \"black\"}, {\"month\": 7, \"hour\": 6, \"percentage_annual\": 3.8540437745417404, \"color\": \"black\"}, {\"month\": 7, \"hour\": 7, \"percentage_annual\": 3.639954687655908, \"color\": \"black\"}, {\"month\": 7, \"hour\": 8, \"percentage_annual\": 2.9058301491433505, \"color\": \"black\"}, {\"month\": 7, \"hour\": 9, \"percentage_annual\": 2.523433877433631, \"color\": \"black\"}, {\"month\": 7, \"hour\": 10, \"percentage_annual\": 2.3796317491621326, \"color\": \"black\"}, {\"month\": 7, \"hour\": 11, \"percentage_annual\": 2.436272179277233, \"color\": \"black\"}, {\"month\": 7, \"hour\": 12, \"percentage_annual\": 2.886607619751956, \"color\": \"black\"}, {\"month\": 7, \"hour\": 13, \"percentage_annual\": 3.40150728108327, \"color\": \"black\"}, {\"month\": 7, \"hour\": 14, \"percentage_annual\": 3.850375352902162, \"color\": \"black\"}, {\"month\": 7, \"hour\": 15, \"percentage_annual\": 4.1347513984023285, \"color\": \"black\"}, {\"month\": 7, \"hour\": 16, \"percentage_annual\": 4.381416069447623, \"color\": \"black\"}, {\"month\": 7, \"hour\": 17, \"percentage_annual\": 4.495870824602489, \"color\": \"black\"}, {\"month\": 7, \"hour\": 18, \"percentage_annual\": 4.672542010764617, \"color\": \"black\"}, {\"month\": 7, \"hour\": 19, \"percentage_annual\": 4.805779084714127, \"color\": \"black\"}, {\"month\": 7, \"hour\": 20, \"percentage_annual\": 4.925076156433238, \"color\": \"black\"}, {\"month\": 7, \"hour\": 21, \"percentage_annual\": 5.0142921707078, \"color\": \"black\"}, {\"month\": 7, \"hour\": 22, \"percentage_annual\": 4.882669202279704, \"color\": \"black\"}, {\"month\": 7, \"hour\": 23, \"percentage_annual\": 4.820012560675694, \"color\": \"black\"}, {\"month\": 8, \"hour\": 0, \"percentage_annual\": 5.045036270763729, \"color\": \"black\"}, {\"month\": 8, \"hour\": 1, \"percentage_annual\": 5.3060883750941334, \"color\": \"black\"}, {\"month\": 8, \"hour\": 2, \"percentage_annual\": 5.565401291520937, \"color\": \"black\"}, {\"month\": 8, \"hour\": 3, \"percentage_annual\": 5.555487920470416, \"color\": \"black\"}, {\"month\": 8, \"hour\": 4, \"percentage_annual\": 5.192693323779395, \"color\": \"black\"}, {\"month\": 8, \"hour\": 5, \"percentage_annual\": 4.516844904440321, \"color\": \"black\"}, {\"month\": 8, \"hour\": 6, \"percentage_annual\": 3.727253596205787, \"color\": \"black\"}, {\"month\": 8, \"hour\": 7, \"percentage_annual\": 3.172974411328374, \"color\": \"black\"}, {\"month\": 8, \"hour\": 8, \"percentage_annual\": 2.7416558112355016, \"color\": \"black\"}, {\"month\": 8, \"hour\": 9, \"percentage_annual\": 2.4567768326257737, \"color\": \"black\"}, {\"month\": 8, \"hour\": 10, \"percentage_annual\": 2.344773131633915, \"color\": \"black\"}, {\"month\": 8, \"hour\": 11, \"percentage_annual\": 2.536953394981747, \"color\": \"black\"}, {\"month\": 8, \"hour\": 12, \"percentage_annual\": 2.923053109581012, \"color\": \"black\"}, {\"month\": 8, \"hour\": 13, \"percentage_annual\": 3.399764513957852, \"color\": \"black\"}, {\"month\": 8, \"hour\": 14, \"percentage_annual\": 3.8364745965518856, \"color\": \"black\"}, {\"month\": 8, \"hour\": 15, \"percentage_annual\": 4.075439014506566, \"color\": \"black\"}, {\"month\": 8, \"hour\": 16, \"percentage_annual\": 4.253010099464157, \"color\": \"black\"}, {\"month\": 8, \"hour\": 17, \"percentage_annual\": 4.268141034225479, \"color\": \"black\"}, {\"month\": 8, \"hour\": 18, \"percentage_annual\": 4.3479697590007325, \"color\": \"black\"}, {\"month\": 8, \"hour\": 19, \"percentage_annual\": 4.581716613244612, \"color\": \"black\"}, {\"month\": 8, \"hour\": 20, \"percentage_annual\": 4.882596120567462, \"color\": \"black\"}, {\"month\": 8, \"hour\": 21, \"percentage_annual\": 5.134604447799145, \"color\": \"black\"}, {\"month\": 8, \"hour\": 22, \"percentage_annual\": 5.1408655242521055, \"color\": \"black\"}, {\"month\": 8, \"hour\": 23, \"percentage_annual\": 4.9944259027689615, \"color\": \"black\"}, {\"month\": 9, \"hour\": 0, \"percentage_annual\": 5.415459315529799, \"color\": \"black\"}, {\"month\": 9, \"hour\": 1, \"percentage_annual\": 5.762654345158849, \"color\": \"black\"}, {\"month\": 9, \"hour\": 2, \"percentage_annual\": 5.880343888410299, \"color\": \"black\"}, {\"month\": 9, \"hour\": 3, \"percentage_annual\": 5.536847051452737, \"color\": \"black\"}, {\"month\": 9, \"hour\": 4, \"percentage_annual\": 4.768493138764891, \"color\": \"black\"}, {\"month\": 9, \"hour\": 5, \"percentage_annual\": 3.984476292409568, \"color\": \"black\"}, {\"month\": 9, \"hour\": 6, \"percentage_annual\": 3.2826898478084945, \"color\": \"black\"}, {\"month\": 9, \"hour\": 7, \"percentage_annual\": 2.6714003532861708, \"color\": \"black\"}, {\"month\": 9, \"hour\": 8, \"percentage_annual\": 2.377285265530234, \"color\": \"black\"}, {\"month\": 9, \"hour\": 9, \"percentage_annual\": 2.2454555738289783, \"color\": \"black\"}, {\"month\": 9, \"hour\": 10, \"percentage_annual\": 2.374892317331036, \"color\": \"black\"}, {\"month\": 9, \"hour\": 11, \"percentage_annual\": 2.650298900984154, \"color\": \"black\"}, {\"month\": 9, \"hour\": 12, \"percentage_annual\": 3.0879908806919536, \"color\": \"black\"}, {\"month\": 9, \"hour\": 13, \"percentage_annual\": 3.476736192688891, \"color\": \"black\"}, {\"month\": 9, \"hour\": 14, \"percentage_annual\": 3.8402467782215606, \"color\": \"black\"}, {\"month\": 9, \"hour\": 15, \"percentage_annual\": 4.048868353042525, \"color\": \"black\"}, {\"month\": 9, \"hour\": 16, \"percentage_annual\": 4.147414310700394, \"color\": \"black\"}, {\"month\": 9, \"hour\": 17, \"percentage_annual\": 4.210501126861061, \"color\": \"black\"}, {\"month\": 9, \"hour\": 18, \"percentage_annual\": 4.210718667606442, \"color\": \"black\"}, {\"month\": 9, \"hour\": 19, \"percentage_annual\": 4.715195656146396, \"color\": \"black\"}, {\"month\": 9, \"hour\": 20, \"percentage_annual\": 5.213799044561046, \"color\": \"black\"}, {\"month\": 9, \"hour\": 21, \"percentage_annual\": 5.287762897990794, \"color\": \"black\"}, {\"month\": 9, \"hour\": 22, \"percentage_annual\": 5.400449004098467, \"color\": \"black\"}, {\"month\": 9, \"hour\": 23, \"percentage_annual\": 5.4100207968952585, \"color\": \"black\"}, {\"month\": 10, \"hour\": 0, \"percentage_annual\": 5.462579694874799, \"color\": \"black\"}, {\"month\": 10, \"hour\": 1, \"percentage_annual\": 5.905323026308716, \"color\": \"black\"}, {\"month\": 10, \"hour\": 2, \"percentage_annual\": 6.0225134661491655, \"color\": \"black\"}, {\"month\": 10, \"hour\": 3, \"percentage_annual\": 5.5737493414757395, \"color\": \"black\"}, {\"month\": 10, \"hour\": 4, \"percentage_annual\": 4.852544322714518, \"color\": \"black\"}, {\"month\": 10, \"hour\": 5, \"percentage_annual\": 4.106826074335293, \"color\": \"black\"}, {\"month\": 10, \"hour\": 6, \"percentage_annual\": 3.3346593413682255, \"color\": \"black\"}, {\"month\": 10, \"hour\": 7, \"percentage_annual\": 2.6835535581812904, \"color\": \"black\"}, {\"month\": 10, \"hour\": 8, \"percentage_annual\": 2.3711173947167543, \"color\": \"black\"}, {\"month\": 10, \"hour\": 9, \"percentage_annual\": 2.287471374353571, \"color\": \"black\"}, {\"month\": 10, \"hour\": 10, \"percentage_annual\": 2.4175635139929685, \"color\": \"black\"}, {\"month\": 10, \"hour\": 11, \"percentage_annual\": 2.670866886712324, \"color\": \"black\"}, {\"month\": 10, \"hour\": 12, \"percentage_annual\": 2.985668361806668, \"color\": \"black\"}, {\"month\": 10, \"hour\": 13, \"percentage_annual\": 3.3669135908655967, \"color\": \"black\"}, {\"month\": 10, \"hour\": 14, \"percentage_annual\": 3.7638558880132456, \"color\": \"black\"}, {\"month\": 10, \"hour\": 15, \"percentage_annual\": 4.010708410833128, \"color\": \"black\"}, {\"month\": 10, \"hour\": 16, \"percentage_annual\": 4.083172958037221, \"color\": \"black\"}, {\"month\": 10, \"hour\": 17, \"percentage_annual\": 3.985980152885143, \"color\": \"black\"}, {\"month\": 10, \"hour\": 18, \"percentage_annual\": 4.238208383954586, \"color\": \"black\"}, {\"month\": 10, \"hour\": 19, \"percentage_annual\": 4.671060412209309, \"color\": \"black\"}, {\"month\": 10, \"hour\": 20, \"percentage_annual\": 5.156379352979755, \"color\": \"black\"}, {\"month\": 10, \"hour\": 21, \"percentage_annual\": 5.260883121351238, \"color\": \"black\"}, {\"month\": 10, \"hour\": 22, \"percentage_annual\": 5.355495586543527, \"color\": \"black\"}, {\"month\": 10, \"hour\": 23, \"percentage_annual\": 5.432905785337218, \"color\": \"black\"}, {\"month\": 11, \"hour\": 0, \"percentage_annual\": 5.369057022335008, \"color\": \"black\"}, {\"month\": 11, \"hour\": 1, \"percentage_annual\": 5.57030737945986, \"color\": \"black\"}, {\"month\": 11, \"hour\": 2, \"percentage_annual\": 5.773448397559787, \"color\": \"black\"}, {\"month\": 11, \"hour\": 3, \"percentage_annual\": 5.816093306219854, \"color\": \"black\"}, {\"month\": 11, \"hour\": 4, \"percentage_annual\": 5.448464783288238, \"color\": \"black\"}, {\"month\": 11, \"hour\": 5, \"percentage_annual\": 4.6768650320151925, \"color\": \"black\"}, {\"month\": 11, \"hour\": 6, \"percentage_annual\": 3.8771154395576692, \"color\": \"black\"}, {\"month\": 11, \"hour\": 7, \"percentage_annual\": 3.1431188343444867, \"color\": \"black\"}, {\"month\": 11, \"hour\": 8, \"percentage_annual\": 2.6542779355662742, \"color\": \"black\"}, {\"month\": 11, \"hour\": 9, \"percentage_annual\": 2.3729895971631683, \"color\": \"black\"}, {\"month\": 11, \"hour\": 10, \"percentage_annual\": 2.31942086953599, \"color\": \"black\"}, {\"month\": 11, \"hour\": 11, \"percentage_annual\": 2.4437843470077136, \"color\": \"black\"}, {\"month\": 11, \"hour\": 12, \"percentage_annual\": 2.841453372098886, \"color\": \"black\"}, {\"month\": 11, \"hour\": 13, \"percentage_annual\": 3.113078332184932, \"color\": \"black\"}, {\"month\": 11, \"hour\": 14, \"percentage_annual\": 3.486168764600104, \"color\": \"black\"}, {\"month\": 11, \"hour\": 15, \"percentage_annual\": 3.774389526578492, \"color\": \"black\"}, {\"month\": 11, \"hour\": 16, \"percentage_annual\": 3.921861082634489, \"color\": \"black\"}, {\"month\": 11, \"hour\": 17, \"percentage_annual\": 4.098742920525016, \"color\": \"black\"}, {\"month\": 11, \"hour\": 18, \"percentage_annual\": 4.044543972572812, \"color\": \"black\"}, {\"month\": 11, \"hour\": 19, \"percentage_annual\": 4.334235248642926, \"color\": \"black\"}, {\"month\": 11, \"hour\": 20, \"percentage_annual\": 4.7934557921449334, \"color\": \"black\"}, {\"month\": 11, \"hour\": 21, \"percentage_annual\": 5.234610019662874, \"color\": \"black\"}, {\"month\": 11, \"hour\": 22, \"percentage_annual\": 5.543628052367108, \"color\": \"black\"}, {\"month\": 11, \"hour\": 23, \"percentage_annual\": 5.348889971934188, \"color\": \"black\"}, {\"month\": 12, \"hour\": 0, \"percentage_annual\": 5.265369284876905, \"color\": \"black\"}, {\"month\": 12, \"hour\": 1, \"percentage_annual\": 5.314888628370458, \"color\": \"black\"}, {\"month\": 12, \"hour\": 2, \"percentage_annual\": 5.540914419695193, \"color\": \"black\"}, {\"month\": 12, \"hour\": 3, \"percentage_annual\": 5.699226260257913, \"color\": \"black\"}, {\"month\": 12, \"hour\": 4, \"percentage_annual\": 5.528534583821806, \"color\": \"black\"}, {\"month\": 12, \"hour\": 5, \"percentage_annual\": 5.048909730363423, \"color\": \"black\"}, {\"month\": 12, \"hour\": 6, \"percentage_annual\": 4.277796014067995, \"color\": \"black\"}, {\"month\": 12, \"hour\": 7, \"percentage_annual\": 3.458663540445486, \"color\": \"black\"}, {\"month\": 12, \"hour\": 8, \"percentage_annual\": 2.9143259085580304, \"color\": \"black\"}, {\"month\": 12, \"hour\": 9, \"percentage_annual\": 2.536553341148886, \"color\": \"black\"}, {\"month\": 12, \"hour\": 10, \"percentage_annual\": 2.3527315357561545, \"color\": \"black\"}, {\"month\": 12, \"hour\": 11, \"percentage_annual\": 2.4720281359906213, \"color\": \"black\"}, {\"month\": 12, \"hour\": 12, \"percentage_annual\": 2.7275029308323564, \"color\": \"black\"}, {\"month\": 12, \"hour\": 13, \"percentage_annual\": 3.0021101992966, \"color\": \"black\"}, {\"month\": 12, \"hour\": 14, \"percentage_annual\": 3.341242672919109, \"color\": \"black\"}, {\"month\": 12, \"hour\": 15, \"percentage_annual\": 3.687878077373974, \"color\": \"black\"}, {\"month\": 12, \"hour\": 16, \"percentage_annual\": 4.003563892145369, \"color\": \"black\"}, {\"month\": 12, \"hour\": 17, \"percentage_annual\": 4.054583821805393, \"color\": \"black\"}, {\"month\": 12, \"hour\": 18, \"percentage_annual\": 4.118546307151231, \"color\": \"black\"}, {\"month\": 12, \"hour\": 19, \"percentage_annual\": 4.367268464243845, \"color\": \"black\"}, {\"month\": 12, \"hour\": 20, \"percentage_annual\": 4.65369284876905, \"color\": \"black\"}, {\"month\": 12, \"hour\": 21, \"percentage_annual\": 5.047033997655334, \"color\": \"black\"}, {\"month\": 12, \"hour\": 22, \"percentage_annual\": 5.237420867526377, \"color\": \"black\"}, {\"month\": 12, \"hour\": 23, \"percentage_annual\": 5.349214536928488, \"color\": \"black\"}]}}, {\"mode\": \"vega-lite\"});\n</script>",
      "text/plain": [
       "alt.LayerChart(...)"
      ]
     },
     "metadata": {},
     "execution_count": 63
    }
   ],
   "source": [
    "color = alt.Chart(hour_month_count).mark_rect().encode(\n",
    "    x = alt.X('hour:O', title = \"Hour (UTC)\", axis= alt.Axis(labelAngle=0)),\n",
    "    y = alt.Y('month:O', title = \"Month\"),\n",
    "    color = alt.condition(alt.datum.percentage_annual == 0, alt.value('lightgrey'), alt.Color('percentage_annual', title = None, legend=None))\n",
    ")\n",
    "\n",
    "text = alt.Chart(hour_month_count).mark_text().encode(\n",
    "    x = alt.X('hour:O', title = \"Hour (UTC)\"),\n",
    "    y = alt.Y('month:O', title = \"Month\"),\n",
    "    color= alt.Color('color', scale=None),\n",
    "    # color = alt.Color('percentage_annual', scale=alt.Scale(domain = [15, 8], scheme='greys')),\n",
    "    text = alt.Text('percentage_annual', format=\".1f\")\n",
    ")\n",
    "monthly_chart = alt.layer(\n",
    "    color, \n",
    "    text\n",
    ").resolve_scale(\n",
    "    color='independent'\n",
    ").properties(\n",
    "    width = 800,\n",
    "    height = 300,\n",
    "    title = \"Hourly Review Distibution by Month in 2011\"\n",
    ")\n",
    "\n",
    "altair_saver.save(monthly_chart, 'monthly.png', scale_factor = 5)\n",
    "monthly_chart\n"
   ]
  },
  {
   "cell_type": "code",
   "execution_count": 56,
   "metadata": {},
   "outputs": [
    {
     "output_type": "execute_result",
     "data": {
      "text/plain": [
       "   year  month  hour  percentage_annual  color\n",
       "0  2000      4     0                0.0  black\n",
       "1  2000      4     1                0.0  black"
      ],
      "text/html": "<div>\n<style scoped>\n    .dataframe tbody tr th:only-of-type {\n        vertical-align: middle;\n    }\n\n    .dataframe tbody tr th {\n        vertical-align: top;\n    }\n\n    .dataframe thead th {\n        text-align: right;\n    }\n</style>\n<table border=\"1\" class=\"dataframe\">\n  <thead>\n    <tr style=\"text-align: right;\">\n      <th></th>\n      <th>year</th>\n      <th>month</th>\n      <th>hour</th>\n      <th>percentage_annual</th>\n      <th>color</th>\n    </tr>\n  </thead>\n  <tbody>\n    <tr>\n      <th>0</th>\n      <td>2000</td>\n      <td>4</td>\n      <td>0</td>\n      <td>0.0</td>\n      <td>black</td>\n    </tr>\n    <tr>\n      <th>1</th>\n      <td>2000</td>\n      <td>4</td>\n      <td>1</td>\n      <td>0.0</td>\n      <td>black</td>\n    </tr>\n  </tbody>\n</table>\n</div>"
     },
     "metadata": {},
     "execution_count": 56
    }
   ],
   "source": [
    "hour_month_count = review_big[review_big['year'] > 1999].copy().groupby(['year', 'month', 'hour' ]).count()\n",
    "hour_month_count = hour_month_count.reset_index()\n",
    "count = hour_month_count.groupby(['year', 'month']).sum()['review_date'].rename('month_sum')\n",
    "count\n",
    "hour_month_count = hour_month_count.join(count, on=['year', 'month'])\n",
    "hour_month_count['percentage_annual'] = hour_month_count['review_date'] / hour_month_count['month_sum'] * 100\n",
    "hour_month_count = hour_month_count.set_index(['year', 'month', 'hour'])['percentage_annual'].unstack(fill_value=0).stack().reset_index(name='percentage_annual')\n",
    "hour_month_count['color'] = hour_month_count['percentage_annual'].apply(color_opposite)\n",
    "hour_month_count.head(2)"
   ]
  },
  {
   "cell_type": "code",
   "execution_count": 57,
   "metadata": {},
   "outputs": [
    {
     "output_type": "stream",
     "name": "stdout",
     "text": [
      "year  month  day  hour\n2000  4      11   7       30011\n             12   7         278\n             13   7         175\n             14   7         270\n             15   7         394\n                          ...  \n2017  2      11   3           4\n                  4           1\n                  5           1\n                  7           3\n                  16          1\nName: day_count, Length: 48978, dtype: int64\n"
     ]
    },
    {
     "output_type": "execute_result",
     "data": {
      "text/plain": [
       "   year  month  day  hour  percentage_annual  color\n",
       "0  2000      4   11     0                0.0  black\n",
       "1  2000      4   11     1                0.0  black"
      ],
      "text/html": "<div>\n<style scoped>\n    .dataframe tbody tr th:only-of-type {\n        vertical-align: middle;\n    }\n\n    .dataframe tbody tr th {\n        vertical-align: top;\n    }\n\n    .dataframe thead th {\n        text-align: right;\n    }\n</style>\n<table border=\"1\" class=\"dataframe\">\n  <thead>\n    <tr style=\"text-align: right;\">\n      <th></th>\n      <th>year</th>\n      <th>month</th>\n      <th>day</th>\n      <th>hour</th>\n      <th>percentage_annual</th>\n      <th>color</th>\n    </tr>\n  </thead>\n  <tbody>\n    <tr>\n      <th>0</th>\n      <td>2000</td>\n      <td>4</td>\n      <td>11</td>\n      <td>0</td>\n      <td>0.0</td>\n      <td>black</td>\n    </tr>\n    <tr>\n      <th>1</th>\n      <td>2000</td>\n      <td>4</td>\n      <td>11</td>\n      <td>1</td>\n      <td>0.0</td>\n      <td>black</td>\n    </tr>\n  </tbody>\n</table>\n</div>"
     },
     "metadata": {},
     "execution_count": 57
    }
   ],
   "source": [
    "hour_day_count = review_big[review_big['year'] > 1999].copy().groupby(['year', 'month', 'day', 'hour' ]).count()\n",
    "hour_day_count = hour_day_count.reset_index()\n",
    "hour_count = hour_day_count.groupby(['year', 'month', 'day', 'hour']).max()['review_date'].rename('day_count')\n",
    "print(hour_count)\n",
    "count = hour_day_count.groupby(['year', 'month', 'day']).sum()['review_date'].rename('day_sum')\n",
    "count\n",
    "\n",
    "\n",
    "hour_day_count = hour_day_count.join(count, on=['year', 'month', 'day'])\n",
    "hour_day_count['percentage_annual'] = hour_day_count['review_date'] / hour_day_count['day_sum'] * 100\n",
    "hour_day_count = hour_day_count.set_index(['year', 'month','day', 'hour'])['percentage_annual'].unstack(fill_value=0).stack().reset_index(name='percentage_annual')\n",
    "hour_day_count['color'] = hour_day_count['percentage_annual'].apply(color_opposite)\n",
    "# hour_day_count = hour_day_count.drop(columns = ['review_date', 'fandom_id', 'day_sum'])\n",
    "hour_day_count.head(2)"
   ]
  },
  {
   "cell_type": "code",
   "execution_count": 58,
   "metadata": {},
   "outputs": [
    {
     "output_type": "execute_result",
     "data": {
      "text/plain": [
       "   year  month  day  hour  percentage_annual  color  day_count\n",
       "0  2000      4   11     0                0.0  black        NaN\n",
       "1  2000      4   11     1                0.0  black        NaN"
      ],
      "text/html": "<div>\n<style scoped>\n    .dataframe tbody tr th:only-of-type {\n        vertical-align: middle;\n    }\n\n    .dataframe tbody tr th {\n        vertical-align: top;\n    }\n\n    .dataframe thead th {\n        text-align: right;\n    }\n</style>\n<table border=\"1\" class=\"dataframe\">\n  <thead>\n    <tr style=\"text-align: right;\">\n      <th></th>\n      <th>year</th>\n      <th>month</th>\n      <th>day</th>\n      <th>hour</th>\n      <th>percentage_annual</th>\n      <th>color</th>\n      <th>day_count</th>\n    </tr>\n  </thead>\n  <tbody>\n    <tr>\n      <th>0</th>\n      <td>2000</td>\n      <td>4</td>\n      <td>11</td>\n      <td>0</td>\n      <td>0.0</td>\n      <td>black</td>\n      <td>NaN</td>\n    </tr>\n    <tr>\n      <th>1</th>\n      <td>2000</td>\n      <td>4</td>\n      <td>11</td>\n      <td>1</td>\n      <td>0.0</td>\n      <td>black</td>\n      <td>NaN</td>\n    </tr>\n  </tbody>\n</table>\n</div>"
     },
     "metadata": {},
     "execution_count": 58
    }
   ],
   "source": [
    "hour_day_count = hour_day_count.join(hour_count, on=['year', 'month', 'day', 'hour'])\n",
    "hour_day_count.head(2)"
   ]
  },
  {
   "cell_type": "code",
   "execution_count": 59,
   "metadata": {},
   "outputs": [
    {
     "output_type": "execute_result",
     "data": {
      "text/plain": [
       "        year  month  day  hour  percentage_annual  color  day_count\n",
       "0       2000      4   11     0                0.0  black        NaN\n",
       "1       2000      4   11     1                0.0  black        NaN\n",
       "2       2000      4   11     2                0.0  black        NaN\n",
       "3       2000      4   11     3                0.0  black        NaN\n",
       "4       2000      4   11     4                0.0  black        NaN\n",
       "...      ...    ...  ...   ...                ...    ...        ...\n",
       "146659  2017      2   11    19                0.0  black        NaN\n",
       "146660  2017      2   11    20                0.0  black        NaN\n",
       "146661  2017      2   11    21                0.0  black        NaN\n",
       "146662  2017      2   11    22                0.0  black        NaN\n",
       "146663  2017      2   11    23                0.0  black        NaN\n",
       "\n",
       "[146664 rows x 7 columns]"
      ],
      "text/html": "<div>\n<style scoped>\n    .dataframe tbody tr th:only-of-type {\n        vertical-align: middle;\n    }\n\n    .dataframe tbody tr th {\n        vertical-align: top;\n    }\n\n    .dataframe thead th {\n        text-align: right;\n    }\n</style>\n<table border=\"1\" class=\"dataframe\">\n  <thead>\n    <tr style=\"text-align: right;\">\n      <th></th>\n      <th>year</th>\n      <th>month</th>\n      <th>day</th>\n      <th>hour</th>\n      <th>percentage_annual</th>\n      <th>color</th>\n      <th>day_count</th>\n    </tr>\n  </thead>\n  <tbody>\n    <tr>\n      <th>0</th>\n      <td>2000</td>\n      <td>4</td>\n      <td>11</td>\n      <td>0</td>\n      <td>0.0</td>\n      <td>black</td>\n      <td>NaN</td>\n    </tr>\n    <tr>\n      <th>1</th>\n      <td>2000</td>\n      <td>4</td>\n      <td>11</td>\n      <td>1</td>\n      <td>0.0</td>\n      <td>black</td>\n      <td>NaN</td>\n    </tr>\n    <tr>\n      <th>2</th>\n      <td>2000</td>\n      <td>4</td>\n      <td>11</td>\n      <td>2</td>\n      <td>0.0</td>\n      <td>black</td>\n      <td>NaN</td>\n    </tr>\n    <tr>\n      <th>3</th>\n      <td>2000</td>\n      <td>4</td>\n      <td>11</td>\n      <td>3</td>\n      <td>0.0</td>\n      <td>black</td>\n      <td>NaN</td>\n    </tr>\n    <tr>\n      <th>4</th>\n      <td>2000</td>\n      <td>4</td>\n      <td>11</td>\n      <td>4</td>\n      <td>0.0</td>\n      <td>black</td>\n      <td>NaN</td>\n    </tr>\n    <tr>\n      <th>...</th>\n      <td>...</td>\n      <td>...</td>\n      <td>...</td>\n      <td>...</td>\n      <td>...</td>\n      <td>...</td>\n      <td>...</td>\n    </tr>\n    <tr>\n      <th>146659</th>\n      <td>2017</td>\n      <td>2</td>\n      <td>11</td>\n      <td>19</td>\n      <td>0.0</td>\n      <td>black</td>\n      <td>NaN</td>\n    </tr>\n    <tr>\n      <th>146660</th>\n      <td>2017</td>\n      <td>2</td>\n      <td>11</td>\n      <td>20</td>\n      <td>0.0</td>\n      <td>black</td>\n      <td>NaN</td>\n    </tr>\n    <tr>\n      <th>146661</th>\n      <td>2017</td>\n      <td>2</td>\n      <td>11</td>\n      <td>21</td>\n      <td>0.0</td>\n      <td>black</td>\n      <td>NaN</td>\n    </tr>\n    <tr>\n      <th>146662</th>\n      <td>2017</td>\n      <td>2</td>\n      <td>11</td>\n      <td>22</td>\n      <td>0.0</td>\n      <td>black</td>\n      <td>NaN</td>\n    </tr>\n    <tr>\n      <th>146663</th>\n      <td>2017</td>\n      <td>2</td>\n      <td>11</td>\n      <td>23</td>\n      <td>0.0</td>\n      <td>black</td>\n      <td>NaN</td>\n    </tr>\n  </tbody>\n</table>\n<p>146664 rows × 7 columns</p>\n</div>"
     },
     "metadata": {},
     "execution_count": 59
    }
   ],
   "source": [
    "hour_day_count"
   ]
  },
  {
   "cell_type": "code",
   "execution_count": 60,
   "metadata": {},
   "outputs": [],
   "source": [
    "single_year = alt.selection_single(on='click', fields=['year'], init={\"year\":2011})\n",
    "single_month = alt.selection_single(on='click', fields=['month'], init={\"month\":12})\n",
    "single_day = alt.selection_single(on='click', fields=['day'], init={\"day\":6})\n",
    "\n",
    "alt.data_transformers.disable_max_rows()\n",
    "color = alt.Chart(hour_year_count).mark_rect().encode(\n",
    "    x = alt.X('hour:O', title = \"Hour (UTC)\", axis= alt.Axis(labelAngle=0)),\n",
    "    y = alt.Y('year:O', title = \"Year\"),\n",
    "    color = alt.condition(alt.datum.percentage_annual == 0, alt.value('lightgrey'), alt.Color('percentage_annual', title = None, legend=None))\n",
    ")\n",
    "\n",
    "text = alt.Chart(hour_year_count).mark_text(size = 10).encode(\n",
    "    x = alt.X('hour:O', title = \"Hour (UTC)\"),\n",
    "    y = alt.Y('year:O', title = \"Year\"),\n",
    "    color= alt.Color('color', scale=None),\n",
    "    # color = alt.Color('percentage_annual', scale=alt.Scale(domain = [15, 8], scheme='greys')),\n",
    "    text = alt.Text('percentage_annual', format=\".1f\")\n",
    ")\n",
    "\n",
    "annual_chart = alt.layer(\n",
    "    color, \n",
    "    text\n",
    ").resolve_scale(\n",
    "    color='independent'\n",
    ").properties(\n",
    "    width = 800,\n",
    "    height = 300,\n",
    "    title = \"Hourly Review Distibution by Year\"\n",
    ").add_selection(\n",
    "    single_year\n",
    ")\n",
    "\n",
    "color = alt.Chart(hour_month_count).mark_rect().encode(\n",
    "    x = alt.X('hour:O', title = \"Hour (UTC)\", axis= alt.Axis(labelAngle=0), scale=alt.Scale(domain=list(range(0, 24)))),\n",
    "    y = alt.Y('month:O', title = \"Month\"),\n",
    "    color = alt.condition(alt.datum.percentage_annual == 0, alt.value('lightgrey'), alt.Color('percentage_annual', title = None, legend=None))\n",
    ").transform_filter(\n",
    "    single_year\n",
    ")\n",
    "\n",
    "text = alt.Chart(hour_month_count).mark_text(size = 10).encode(\n",
    "    x = alt.X('hour:O', title = \"Hour (UTC)\", scale=alt.Scale(domain=list(range(0, 24)))),\n",
    "    y = alt.Y('month:O', title = \"Month\"),\n",
    "    color= alt.Color('color', scale=None),\n",
    "    # color = alt.Color('percentage_annual', scale=alt.Scale(domain = [15, 8], scheme='greys')),\n",
    "    text = alt.Text('percentage_annual', format=\".1f\")\n",
    ").transform_filter(\n",
    "    single_year\n",
    ")\n",
    "\n",
    "monthly_chart = alt.layer(\n",
    "    color, \n",
    "    text\n",
    ").resolve_scale(\n",
    "    color='independent'\n",
    ").properties(\n",
    "    width = 800,\n",
    "    height = 300,\n",
    "    title = \"Hourly Review Distibution by Month\"\n",
    ").add_selection(\n",
    "    single_month\n",
    ")\n",
    "\n",
    "color = alt.Chart(hour_day_count).mark_rect().encode(\n",
    "    x = alt.X('hour:O', title = \"Hour (UTC)\", axis= alt.Axis(labelAngle=0), scale=alt.Scale(domain=list(range(0, 24)))),\n",
    "    y = alt.Y('day:O', title = \"Day\"),\n",
    "    color = alt.condition(alt.datum.percentage_annual == 0, alt.value('lightgrey'), alt.Color('percentage_annual', title = None, legend=None))\n",
    ").transform_filter(\n",
    "    single_year & single_month\n",
    ")\n",
    "\n",
    "text = alt.Chart(hour_day_count).mark_text(size = 10).encode(\n",
    "    x = alt.X('hour:O', title = \"Hour (UTC)\", scale=alt.Scale(domain=list(range(0, 24)))),\n",
    "    y = alt.Y('day:O', title = \"Day\"),\n",
    "    color= alt.Color('color', scale=None),\n",
    "    # color = alt.Color('percentage_annual', scale=alt.Scale(domain = [15, 8], scheme='greys')),\n",
    "    text = alt.Text('percentage_annual', format=\".1f\")\n",
    ").transform_filter(\n",
    "    single_year & single_month\n",
    ")\n",
    "\n",
    "daily_chart = alt.layer(\n",
    "    color, \n",
    "    text\n",
    ").resolve_scale(\n",
    "    color='independent'\n",
    ").properties(\n",
    "    width = 800,\n",
    "    height = 500,\n",
    "    title = \"Hourly Review Distibution by Day \"\n",
    ").add_selection(\n",
    "    single_day\n",
    ")\n",
    "\n",
    "daily_hist = alt.Chart(hour_day_count).mark_bar().encode(\n",
    "    x = alt.X('hour:O', title = \"Hour (UTC)\", scale=alt.Scale(domain=list(range(0, 24)))),\n",
    "    y = alt.Y('day_count:Q', title= \"Reviews Recieved\")\n",
    ").transform_filter(\n",
    "    single_year & single_month & single_day\n",
    ")\n",
    "\n",
    "s_year = alt.Chart(hour_month_count).mark_text().encode(\n",
    "    text = alt.Text('min(year)')\n",
    ").transform_filter(\n",
    "    single_year\n",
    ").properties(\n",
    "    title=\"Selected Year:\"\n",
    ")\n",
    "\n",
    "s_month = alt.Chart(hour_day_count).mark_text().encode(\n",
    "    text = alt.Text('min(month)')\n",
    ").transform_filter(\n",
    "    single_year & single_month\n",
    ").properties(\n",
    "    title=\"Selected Month:\"\n",
    ")\n",
    "\n",
    "# altair_saver.save(monthly_chart, 'monthly.svg')\n",
    "\n",
    "# altair_saver.save(annual_chart, 'annual.png')\n",
    "interactive_chart = alt.vconcat(annual_chart,  s_year,  monthly_chart,  s_month, daily_chart, daily_hist, center=True)\n",
    "interactive_chart.save('date_chart.html')\n",
    "# interactive_chart"
   ]
  }
 ]
}